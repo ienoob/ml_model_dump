{
 "cells": [
  {
   "cell_type": "code",
   "execution_count": 1,
   "metadata": {},
   "outputs": [],
   "source": [
    "import re\n",
    "import numpy as np\n",
    "import xgboost as xgb\n",
    "from sklearn.ensemble import RandomForestClassifier, GradientBoostingClassifier\n",
    "from sklearn.datasets import load_iris\n",
    "from sklearn.tree import _tree\n",
    "from sklearn.tree import DecisionTreeClassifier\n",
    "from sklearn.linear_model import LogisticRegression\n",
    "from sklearn.feature_extraction.text import TfidfVectorizer\n",
    "from sklearn.neural_network import MLPClassifier"
   ]
  },
  {
   "cell_type": "code",
   "execution_count": null,
   "metadata": {},
   "outputs": [],
   "source": []
  },
  {
   "cell_type": "code",
   "execution_count": 2,
   "metadata": {},
   "outputs": [],
   "source": [
    "def tree_to_code(tree, feature_names):\n",
    "    tree_ = tree.tree_\n",
    "    feature_name = [\n",
    "        feature_names[i] if i != _tree.TREE_UNDEFINED else \"undefined!\"\n",
    "        for i in tree_.feature\n",
    "    ]\n",
    "#     print(\"def tree({}):\".format(\", \".join(feature_names)))\n",
    "    \n",
    "    all_path = []\n",
    "    def recurse(node, depth, alist):\n",
    "        indent = \"  \" * depth\n",
    "        if tree_.feature[node] != _tree.TREE_UNDEFINED:\n",
    "            name = feature_name[node]\n",
    "            threshold = tree_.threshold[node]\n",
    "#             print(\"{}if {} <= {}:\".format(indent, name, threshold))\n",
    "            path_info = \"{}<{}\".format(tree_.feature[node], round(threshold, 2))\n",
    "            recurse(tree_.children_left[node], depth + 1, alist+[path_info])\n",
    "            path_info = \"{}>{}\".format(tree_.feature[node], round(threshold, 2))\n",
    "#             print(\"{}else:  # if {} > {}\".format(indent, name, threshold))\n",
    "            recurse(tree_.children_right[node], depth + 1, alist+[path_info])\n",
    "        else:\n",
    "            if isinstance(tree, DecisionTreeClassifier):\n",
    "                label = np.argmax(tree_.value[node][0])\n",
    "                alist.append(\"{}\".format(label))\n",
    "                all_path.append(alist)\n",
    "            else:\n",
    "                val = tree_.value[node][0][0]\n",
    "                alist.append(\"{}\".format(val))\n",
    "                all_path.append(alist)\n",
    "                \n",
    "\n",
    "    recurse(0, 1, [])\n",
    "    return all_path"
   ]
  },
  {
   "cell_type": "code",
   "execution_count": 3,
   "metadata": {},
   "outputs": [],
   "source": [
    "\n",
    "def tree2code(input_node_list):\n",
    "    tree_result = []\n",
    "    def dfs(node_id, paths):\n",
    "        node = input_node_list[node_id]\n",
    "        if \"leaf_value\" in node:\n",
    "            paths.append(str(node[\"leaf_value\"]))\n",
    "            tree_result.append(paths)\n",
    "        else:\n",
    "            left_path = \"{0}{1}{2}\".format(node[\"feature_id\"][1:], \"<\", node[\"feature_value\"])\n",
    "            dfs(int(node[\"yes_value\"]), paths+[left_path])\n",
    "            \n",
    "            right_path = \"{0}{1}{2}\".format(node[\"feature_id\"][1:], \">\", node[\"feature_value\"])\n",
    "            dfs(int(node[\"no_value\"]), paths+[right_path])\n",
    "    dfs(0, [])\n",
    "    return tree_result"
   ]
  },
  {
   "cell_type": "code",
   "execution_count": 4,
   "metadata": {},
   "outputs": [],
   "source": [
    "class GaeaModelSave(object):\n",
    "    def __init__(self, word2id, tfidfvalue):\n",
    "        self.word2id = word2id\n",
    "        self.id2word = {v:k for k, v in word2id.items()}\n",
    "        self.word_list = [self.id2word[i] for i in range(len(word2id))]\n",
    "        self.tfidf = [str(round(x, 2)) for x in tfidfvalue]\n",
    "    \n",
    "    # 保存模型\n",
    "    def save_model(self, model, path, filename, **kw):\n",
    "        model_name = \"xxxx\"\n",
    "        full_path = path + filename\n",
    "        feature_names = kw[\"feature_names\"]\n",
    "        with open(full_path, \"w\") as f:\n",
    "            f.write(\"model_name--{}\\n\".format(model_name))\n",
    "            f.write(\"class_num--{}\\n\".format(len(model.classes_)))\n",
    "            class_num = len(model.classes_)\n",
    "            if isinstance(model, LogisticRegression):\n",
    "                f.write(\"model_type--logistic_regression\\n\")\n",
    "                if len(model.classes_) == 2:\n",
    "                    f.write(\"logistic_regression_coef--{}\\n\".format(\",\".join([str(x) for x in model.coef_[0]])))\n",
    "                    f.write(\"logistic_regression_intercept--{}&&{}\\n\".format(0, model.intercept_[0]))\n",
    "                else:\n",
    "                    for i in range(len(model.classes_)):\n",
    "                        f.write(\"logistic_regression_coef--{}\\n\".format(\",\".join([str(x) for x in model.coef_[i]])))\n",
    "                        f.write(\"logistic_regression_intercept--{}\\n\".format(model.intercept_[i]))\n",
    "            if isinstance(model, RandomForestClassifier):\n",
    "                f.write(\"model_type--random_forest\\n\")\n",
    "                f.write(\"tree_num--{}\\n\".format(model.n_estimators))\n",
    "                for i, tree in enumerate(model.estimators_):\n",
    "                    path_list = tree_to_code(tree, feature_names)\n",
    "                    for path in path_list:\n",
    "                        f.write(\"forest_path--{}%{}\\n\".format(i, \"&&\".join(path)))\n",
    "            elif isinstance(model, DecisionTreeClassifier):\n",
    "                f.write(\"model_type--decision_tree\\n\")\n",
    "                path_list = tree_to_code(model, feature_names)\n",
    "                for path in path_list:\n",
    "                    f.write(\"tree_path--{}\\n\".format(\"&&\".join(path)))\n",
    "            elif isinstance(model, GradientBoostingClassifier):\n",
    "                f.write(\"model_type--gradient_boost_decision_tree\\n\")\n",
    "                f.write(\"tree_num--{}\\n\".format(model.n_estimators))\n",
    "                for i, trees in enumerate(model.estimators_):\n",
    "                    for j, tree in enumerate(trees):\n",
    "                        path_list = tree_to_code(tree, feature_names)\n",
    "                        for path in path_list:\n",
    "                            f.write(\"gbdt_path--{}%{}%{}\\n\".format(i, j, \"&&\".join(path)))\n",
    "            elif isinstance(model, xgb.sklearn.XGBClassifier):\n",
    "                f.write(\"model_type--xgboost\\n\")\n",
    "                f.write(\"tree_num--{}\\n\".format(model.n_estimators))\n",
    "                \n",
    "                booster = model.get_booster()\n",
    "                tree_list = booster.get_dump()\n",
    "                \n",
    "                dev_value = 1\n",
    "                if class_num > 2:\n",
    "                    dev_value = class_num\n",
    "                for i, tree in enumerate(tree_list):\n",
    "                    tree_id = i//dev_value\n",
    "                    tree_class_id = i%dev_value\n",
    "\n",
    "                    node_list = []\n",
    "\n",
    "                    reg = re.compile(r\"(?P<tree_id>[\\d]*):\\[(?P<feature_id>[f\\d]*)(?P<operation>[\\<\\>]*)(?P<feature_value>[-\\d\\.]*)\\] yes=(?P<yes_value>[\\d]*),no=(?P<no_value>[\\d]*),missing=(?P<missing_value>[\\d]*)\")\n",
    "                    reg2= re.compile(r\"(?P<tree_id>\\d*):leaf=(?P<leaf_value>[-\\d\\.]*)\")\n",
    "\n",
    "                    for x in tree.split(\"\\n\"):\n",
    "                        x = x.strip()\n",
    "                        if not x:\n",
    "                            continue\n",
    "\n",
    "                        regMatch = reg.match(x)\n",
    "                        if regMatch:\n",
    "                            linebits = regMatch.groupdict()\n",
    "                            node_list.append(linebits)\n",
    "                        else:\n",
    "                            regMatch = reg2.match(x)\n",
    "                            if regMatch:\n",
    "                                linebits = regMatch.groupdict()\n",
    "                                node_list.append(linebits)\n",
    "\n",
    "\n",
    "                    path_list = tree2code(node_list)\n",
    "                    for path in path_list:\n",
    "                        f.write(\"xgb_path--{}%{}%{}\\n\".format(tree_id, tree_class_id, \"&&\".join(path)))\n",
    "            elif isinstance(model, MLPClassifier):\n",
    "                f.write(\"model_type--neural_network\\n\")\n",
    "                f.write(\"layer_num--{}\\n\".format(model.n_layers_))\n",
    "                f.write(\"laye_0--{}\\n\".format(model.coefs_[0].shape[0]))\n",
    "                \n",
    "                ind = 1\n",
    "                for coef in model.coefs_:\n",
    "                    f.write(\"laye_{}--{}\\n\".format(ind, coef.shape[1]))\n",
    "                    ind += 1\n",
    "                \n",
    "                for i, coef in enumerate(model.coefs_):\n",
    "                    for j, coef_row in enumerate(coef):\n",
    "                        coef_v = \",\".join([str(round(c, 2)) for c in coef_row])\n",
    "                        f.write(\"coef_{}_{}--{}\\n\".format(i, j, coef_v))\n",
    "                    \n",
    "                for i, intercepts in enumerate(model.intercepts_):\n",
    "                    inter_v =  \",\".join([str(round(c, 2)) for c in intercepts])\n",
    "                    f.write(\"intercept--{}\\n\".format(inter_v))\n",
    "                    \n",
    "            \n",
    "            f.write(\"feature_name--{}\\n\".format(\",\".join(feature_names)))\n",
    "            f.write(\"feature_entity--{}\\n\".format(\",\".join(self.word_list)))\n",
    "            f.write(\"feature_idf--{}\\n\".format(\",\".join( self.tfidf)))"
   ]
  },
  {
   "cell_type": "code",
   "execution_count": 5,
   "metadata": {},
   "outputs": [],
   "source": [
    "iris = load_iris()\n",
    "iris_data = iris.data\n",
    "iris_label = iris.target"
   ]
  },
  {
   "cell_type": "code",
   "execution_count": 6,
   "metadata": {},
   "outputs": [
    {
     "name": "stderr",
     "output_type": "stream",
     "text": [
      "d:\\program files\\python36\\lib\\site-packages\\sklearn\\neural_network\\multilayer_perceptron.py:562: ConvergenceWarning: Stochastic Optimizer: Maximum iterations (200) reached and the optimization hasn't converged yet.\n",
      "  % self.max_iter, ConvergenceWarning)\n"
     ]
    },
    {
     "data": {
      "text/plain": [
       "MLPClassifier(activation='relu', alpha=0.0001, batch_size='auto', beta_1=0.9,\n",
       "       beta_2=0.999, early_stopping=False, epsilon=1e-08,\n",
       "       hidden_layer_sizes=(100,), learning_rate='constant',\n",
       "       learning_rate_init=0.001, max_iter=200, momentum=0.9,\n",
       "       n_iter_no_change=10, nesterovs_momentum=True, power_t=0.5,\n",
       "       random_state=None, shuffle=True, solver='adam', tol=0.0001,\n",
       "       validation_fraction=0.1, verbose=False, warm_start=False)"
      ]
     },
     "execution_count": 6,
     "metadata": {},
     "output_type": "execute_result"
    }
   ],
   "source": [
    "lr_iris = LogisticRegression(solver=\"lbfgs\", multi_class=\"auto\", max_iter=200)\n",
    "lr_iris.fit(iris_data, iris_label)\n",
    "\n",
    "dt_iris = DecisionTreeClassifier()\n",
    "dt_iris.fit(iris_data, iris_label)\n",
    "\n",
    "rf_iris = RandomForestClassifier(n_estimators=10)\n",
    "rf_iris.fit(iris_data, iris_label)\n",
    "\n",
    "gbdt_iris = GradientBoostingClassifier(n_estimators=10)\n",
    "gbdt_iris.fit(iris_data, iris_label)\n",
    "\n",
    "xgb_iris = xgb.XGBClassifier()\n",
    "xgb_iris.fit(iris_data, iris_label)\n",
    "\n",
    "mlp_iris = MLPClassifier()\n",
    "mlp_iris.fit(iris_data, iris_label)"
   ]
  },
  {
   "cell_type": "code",
   "execution_count": 8,
   "metadata": {},
   "outputs": [
    {
     "data": {
      "text/plain": [
       "array([0, 0, 0, 0, 0, 0, 0, 0, 0, 0, 0, 0, 0, 0, 0, 0, 0, 0, 0, 0, 0, 0,\n",
       "       0, 0, 0, 0, 0, 0, 0, 0, 0, 0, 0, 0, 0, 0, 0, 0, 0, 0, 0, 0, 0, 0,\n",
       "       0, 0, 0, 0, 0, 0, 1, 1, 1, 1, 1, 1, 1, 1, 1, 1, 1, 1, 1, 1, 1, 1,\n",
       "       1, 1, 2, 1, 2, 1, 2, 1, 1, 1, 1, 1, 1, 1, 1, 1, 1, 2, 1, 1, 1, 1,\n",
       "       1, 1, 1, 1, 1, 1, 1, 1, 1, 1, 1, 1, 2, 2, 2, 2, 2, 2, 2, 2, 2, 2,\n",
       "       2, 2, 2, 2, 2, 2, 2, 2, 2, 2, 2, 2, 2, 2, 2, 2, 2, 2, 2, 2, 2, 2,\n",
       "       2, 2, 2, 2, 2, 2, 2, 2, 2, 2, 2, 2, 2, 2, 2, 2, 2, 2])"
      ]
     },
     "execution_count": 8,
     "metadata": {},
     "output_type": "execute_result"
    }
   ],
   "source": [
    "mlp_iris.predict(iris_data)"
   ]
  },
  {
   "cell_type": "code",
   "execution_count": 79,
   "metadata": {},
   "outputs": [],
   "source": [
    "gms = GaeaModelSave({}, {})\n",
    "gms.save_model(lr_iris,\"C:\\\\Users\\\\Herman Yang\\\\source\\\\repos\\\\gaea\\\\UnittestGaeaTest\\\\\", \"logistic_regression_iris.gaea\", feature_names=iris.feature_names)\n",
    "gms.save_model(dt_iris,\"C:\\\\Users\\\\Herman Yang\\\\source\\\\repos\\\\gaea\\\\UnittestGaeaTest\\\\\", \"decision_tree_iris.gaea\", feature_names=iris.feature_names)\n",
    "gms.save_model(gbdt_iris,\"C:\\\\Users\\\\Herman Yang\\\\source\\\\repos\\\\gaea\\\\UnittestGaeaTest\\\\\", \"gradient_boost_decision_tree_iris.gaea\", feature_names=iris.feature_names)\n",
    "gms.save_model(rf_iris,\"C:\\\\Users\\\\Herman Yang\\\\source\\\\repos\\\\gaea\\\\UnittestGaeaTest\\\\\", \"random_forest_iris.gaea\", feature_names=iris.feature_names)\n",
    "gms.save_model(xgb_iris,\"C:\\\\Users\\\\Herman Yang\\\\source\\\\repos\\\\gaea\\\\UnittestGaeaTest\\\\\", \"xgboost_iris.gaea\", feature_names=iris.feature_names)\n",
    "gms.save_model(mlp_iris,\"C:\\\\Users\\\\Herman Yang\\\\source\\\\repos\\\\gaea\\\\UnittestGaeaTest\\\\\", \"mlp_iris.gaea\", feature_names=iris.feature_names)"
   ]
  },
  {
   "cell_type": "code",
   "execution_count": 32,
   "metadata": {},
   "outputs": [],
   "source": [
    "data = [\n",
    "    \"Sanjay Dutt's acting career has consisted of his work in Bollywood films. \",\n",
    "    \"He made his acting debut in 1981,\",\n",
    "    \"opposite Tina Ambani, in his father Sunil Dutt's romantic action film Rocky (1981).\",\n",
    "    \"Rocky was ranked as the tenth highest-grossing Bollywood film of 1981.\",\n",
    "    \"After appearing in a series of box-office flops,\",\n",
    "    \"Sanjay Dutt starred in Mahesh Bhatt's crime thriller film Naam (1986).\",\n",
    "    \"He received critical acclaim for his performance,\"\n",
    "    \"and it became a turning point in his career.\",\n",
    "    \"In 1991, Dutt appeared in Lawrence D'Souza's Indian romantic drama film Saajan (1991),\",\n",
    "    \"starring alongside Madhuri Dixit and Salman Khan.\",\n",
    "    \"For his performance, he was nominated for the Filmfare Award for Best Actor.\",\n",
    "    \"He was nominated again for the same award for his performance in Khalnayak (1993).\",\n",
    "    \"Dutt won the Filmfare Award for Best Actor for portraying a young man who later becomes a gangster in Vaastav: The Reality (1999).\",\n",
    "    \"He also received critical acclaim for his performance.\",\n",
    "    \"Dutt next appeared in Vidhu Vinod Chopra's crime thriller film Mission Kashmir (2000),\",\n",
    "    \"for which performance he was again nominated for the Filmfare Award for Best Acto\"]"
   ]
  },
  {
   "cell_type": "code",
   "execution_count": 33,
   "metadata": {},
   "outputs": [],
   "source": [
    "data_encode = []\n",
    "word2id = {}\n",
    "for sd in data:\n",
    "    sds = re.findall(\"(?u)\\\\b\\\\w\\\\w+\\\\b\", sd)\n",
    "    sdss = []\n",
    "    for s in sds:\n",
    "        if s.lower() not in word2id:\n",
    "            word2id[s.lower()] = len(word2id)\n",
    "        sdss.append(str(word2id[s.lower()]))\n",
    "    data_encode.append(\",\".join(sdss))\n",
    "\n",
    "tfidf_vector = TfidfVectorizer(ngram_range=(1,3))\n",
    "text_data = tfidf_vector.fit_transform(data_encode)\n",
    "text_label = [0]*7+[1]*8\n",
    "idf_value = tfidf_vector.idf_"
   ]
  },
  {
   "cell_type": "code",
   "execution_count": 31,
   "metadata": {},
   "outputs": [
    {
     "data": {
      "text/plain": [
       "XGBClassifier(base_score=0.5, booster='gbtree', colsample_bylevel=1,\n",
       "       colsample_bytree=1, gamma=0, learning_rate=0.1, max_delta_step=0,\n",
       "       max_depth=3, min_child_weight=1, missing=None, n_estimators=10,\n",
       "       n_jobs=1, nthread=None, objective='binary:logistic', random_state=0,\n",
       "       reg_alpha=0, reg_lambda=1, scale_pos_weight=1, seed=None,\n",
       "       silent=True, subsample=1)"
      ]
     },
     "execution_count": 31,
     "metadata": {},
     "output_type": "execute_result"
    }
   ],
   "source": [
    "lr_text = LogisticRegression(solver=\"lbfgs\", multi_class=\"auto\", max_iter=200)\n",
    "lr_text.fit(text_data, text_label)\n",
    "\n",
    "dt_text = DecisionTreeClassifier()\n",
    "dt_text.fit(text_data, text_label)\n",
    "\n",
    "rf_text = RandomForestClassifier(n_estimators=10)\n",
    "rf_text.fit(text_data, text_label)\n",
    "\n",
    "gbdt_text = GradientBoostingClassifier(n_estimators=10)\n",
    "gbdt_text.fit(text_data, text_label)\n",
    "\n",
    "xgb_text = xgb.XGBClassifier(n_estimators=10)\n",
    "xgb_text.fit(text_data, text_label)"
   ]
  },
  {
   "cell_type": "code",
   "execution_count": 36,
   "metadata": {},
   "outputs": [],
   "source": [
    "gms = GaeaModelSave(word2id, idf_value)\n",
    "gms.save_model(lr_text,\"C:\\\\Users\\\\Herman Yang\\\\source\\\\repos\\\\gaea\\\\UnittestGaeaTest\\\\\", \"logistic_regression_text.gaea\", feature_names=tfidf_vector.get_feature_names())\n",
    "gms.save_model(dt_text,\"C:\\\\Users\\\\Herman Yang\\\\source\\\\repos\\\\gaea\\\\UnittestGaeaTest\\\\\", \"decision_tree_text.gaea\", feature_names=tfidf_vector.get_feature_names())\n",
    "gms.save_model(gbdt_text,\"C:\\\\Users\\\\Herman Yang\\\\source\\\\repos\\\\gaea\\\\UnittestGaeaTest\\\\\", \"gradient_boost_decision_tree_text.gaea\", feature_names=tfidf_vector.get_feature_names())\n",
    "gms.save_model(rf_text,\"C:\\\\Users\\\\Herman Yang\\\\source\\\\repos\\\\gaea\\\\UnittestGaeaTest\\\\\", \"random_forest_text.gaea\", feature_names=tfidf_vector.get_feature_names())\n",
    "gms.save_model(xgb_text,\"C:\\\\Users\\\\Herman Yang\\\\source\\\\repos\\\\gaea\\\\UnittestGaeaTest\\\\\", \"xgboost_text.gaea\", feature_names=tfidf_vector.get_feature_names())"
   ]
  },
  {
   "cell_type": "code",
   "execution_count": 35,
   "metadata": {},
   "outputs": [
    {
     "data": {
      "text/plain": [
       "<bound method CountVectorizer.get_feature_names of TfidfVectorizer(analyzer='word', binary=False, decode_error='strict',\n",
       "        dtype=<class 'numpy.float64'>, encoding='utf-8', input='content',\n",
       "        lowercase=True, max_df=1.0, max_features=None, min_df=1,\n",
       "        ngram_range=(1, 3), norm='l2', preprocessor=None, smooth_idf=True,\n",
       "        stop_words=None, strip_accents=None, sublinear_tf=False,\n",
       "        token_pattern='(?u)\\\\b\\\\w\\\\w+\\\\b', tokenizer=None, use_idf=True,\n",
       "        vocabulary=None)>"
      ]
     },
     "execution_count": 35,
     "metadata": {},
     "output_type": "execute_result"
    }
   ],
   "source": [
    "tfidf_vector.get_feature_names"
   ]
  },
  {
   "cell_type": "code",
   "execution_count": null,
   "metadata": {},
   "outputs": [],
   "source": []
  },
  {
   "cell_type": "code",
   "execution_count": null,
   "metadata": {},
   "outputs": [],
   "source": []
  },
  {
   "cell_type": "code",
   "execution_count": 161,
   "metadata": {},
   "outputs": [
    {
     "data": {
      "text/plain": [
       "0.9"
      ]
     },
     "execution_count": 161,
     "metadata": {},
     "output_type": "execute_result"
    }
   ],
   "source": []
  },
  {
   "cell_type": "code",
   "execution_count": 174,
   "metadata": {},
   "outputs": [],
   "source": []
  },
  {
   "cell_type": "code",
   "execution_count": 109,
   "metadata": {},
   "outputs": [
    {
     "data": {
      "text/plain": [
       "DecisionTreeClassifier(class_weight=None, criterion='gini', max_depth=None,\n",
       "            max_features=None, max_leaf_nodes=None,\n",
       "            min_impurity_decrease=0.0, min_impurity_split=None,\n",
       "            min_samples_leaf=1, min_samples_split=2,\n",
       "            min_weight_fraction_leaf=0.0, presort=False, random_state=None,\n",
       "            splitter='best')"
      ]
     },
     "execution_count": 109,
     "metadata": {},
     "output_type": "execute_result"
    }
   ],
   "source": []
  },
  {
   "cell_type": "code",
   "execution_count": 11,
   "metadata": {},
   "outputs": [],
   "source": []
  },
  {
   "cell_type": "code",
   "execution_count": 11,
   "metadata": {},
   "outputs": [],
   "source": [
    "xgb_model = xgb.XGBClassifier()"
   ]
  },
  {
   "cell_type": "code",
   "execution_count": 18,
   "metadata": {},
   "outputs": [
    {
     "data": {
      "text/plain": [
       "XGBClassifier(base_score=0.5, booster='gbtree', colsample_bylevel=1,\n",
       "       colsample_bytree=1, gamma=0, learning_rate=0.1, max_delta_step=0,\n",
       "       max_depth=3, min_child_weight=1, missing=None, n_estimators=100,\n",
       "       n_jobs=1, nthread=None, objective='multi:softprob', random_state=0,\n",
       "       reg_alpha=0, reg_lambda=1, scale_pos_weight=1, seed=None,\n",
       "       silent=True, subsample=1)"
      ]
     },
     "execution_count": 18,
     "metadata": {},
     "output_type": "execute_result"
    }
   ],
   "source": [
    "xgb_model.fit(iris_data, iris_label)"
   ]
  },
  {
   "cell_type": "code",
   "execution_count": 107,
   "metadata": {},
   "outputs": [
    {
     "data": {
      "text/plain": [
       "array([0, 1, 2])"
      ]
     },
     "execution_count": 107,
     "metadata": {},
     "output_type": "execute_result"
    }
   ],
   "source": [
    "xgb_model.classes_"
   ]
  },
  {
   "cell_type": "code",
   "execution_count": 68,
   "metadata": {},
   "outputs": [
    {
     "data": {
      "image/png": "[encoded data removed]",
      "text/plain": [
       "<Figure size 432x288 with 1 Axes>"
      ]
     },
     "metadata": {
      "needs_background": "light"
     },
     "output_type": "display_data"
    }
   ],
   "source": [
    "plot_tree(booster)\n",
    "plt.show()"
   ]
  },
  {
   "cell_type": "code",
   "execution_count": 24,
   "metadata": {},
   "outputs": [],
   "source": [
    "booster = xgb_model.get_booster()\n",
    "tree = booster.get_dump(fmap=\"\")[0]"
   ]
  },
  {
   "cell_type": "code",
   "execution_count": 66,
   "metadata": {},
   "outputs": [
    {
     "data": {
      "text/plain": [
       "['0:[f2<2.45000005] yes=1,no=2,missing=1\\n\\t1:leaf=0.143540666\\n\\t2:leaf=-0.0733496398\\n',\n",
       " '0:[f2<2.45000005] yes=1,no=2,missing=1\\n\\t1:leaf=-0.0717703402\\n\\t2:[f3<1.75] yes=3,no=4,missing=3\\n\\t\\t3:[f2<4.94999981] yes=5,no=6,missing=5\\n\\t\\t\\t5:leaf=0.138805971\\n\\t\\t\\t6:leaf=-3.25116267e-09\\n\\t\\t4:[f2<4.85000038] yes=7,no=8,missing=7\\n\\t\\t\\t7:leaf=-2.55448485e-09\\n\\t\\t\\t8:leaf=-0.0712707266\\n',\n",
       " '0:[f3<1.6500001] yes=1,no=2,missing=1\\n\\t1:[f2<4.94999981] yes=3,no=4,missing=3\\n\\t\\t3:leaf=-0.0732997581\\n\\t\\t4:leaf=0.0724137947\\n\\t2:leaf=0.13432835\\n',\n",
       " '0:[f2<2.45000005] yes=1,no=2,missing=1\\n\\t1:leaf=0.125266254\\n\\t2:leaf=-0.0706711337\\n',\n",
       " '0:[f2<2.45000005] yes=1,no=2,missing=1\\n\\t1:leaf=-0.0690967366\\n\\t2:[f3<1.75] yes=3,no=4,missing=3\\n\\t\\t3:[f2<4.94999981] yes=5,no=6,missing=5\\n\\t\\t\\t5:leaf=0.121304467\\n\\t\\t\\t6:leaf=0.000282830821\\n\\t\\t4:[f2<4.85000038] yes=7,no=8,missing=7\\n\\t\\t\\t7:leaf=0.00102581468\\n\\t\\t\\t8:leaf=-0.0687237903\\n',\n",
       " '0:[f3<1.6500001] yes=1,no=2,missing=1\\n\\t1:[f2<4.94999981] yes=3,no=4,missing=3\\n\\t\\t3:leaf=-0.0706149861\\n\\t\\t4:leaf=0.0670354962\\n\\t2:leaf=0.117716871\\n',\n",
       " '0:[f2<2.45000005] yes=1,no=2,missing=1\\n\\t1:leaf=0.111727171\\n\\t2:leaf=-0.0683021843\\n',\n",
       " '0:[f2<2.45000005] yes=1,no=2,missing=1\\n\\t1:leaf=-0.0667034611\\n\\t2:[f3<1.75] yes=3,no=4,missing=3\\n\\t\\t3:[f2<4.94999981] yes=5,no=6,missing=5\\n\\t\\t\\t5:leaf=0.108217292\\n\\t\\t\\t6:leaf=0.000666455773\\n\\t\\t4:[f2<4.85000038] yes=7,no=8,missing=7\\n\\t\\t\\t7:leaf=0.00207455526\\n\\t\\t\\t8:leaf=-0.0664249212\\n',\n",
       " '0:[f2<4.75] yes=1,no=2,missing=1\\n\\t1:[f3<1.54999995] yes=3,no=4,missing=3\\n\\t\\t3:leaf=-0.0681315213\\n\\t\\t4:leaf=0.00241705822\\n\\t2:[f3<1.75] yes=5,no=6,missing=5\\n\\t\\t5:[f2<4.94999981] yes=7,no=8,missing=7\\n\\t\\t\\t7:leaf=-0.038548816\\n\\t\\t\\t8:leaf=0.0438800901\\n\\t\\t6:[f2<4.85000038] yes=9,no=10,missing=9\\n\\t\\t\\t9:leaf=0.031683363\\n\\t\\t\\t10:leaf=0.112100519\\n',\n",
       " '0:[f2<2.45000005] yes=1,no=2,missing=1\\n\\t1:leaf=0.101349197\\n\\t2:leaf=-0.0661907122\\n',\n",
       " '0:[f2<2.45000005] yes=1,no=2,missing=1\\n\\t1:leaf=-0.0645550042\\n\\t2:[f3<1.75] yes=3,no=4,missing=3\\n\\t\\t3:[f2<4.94999981] yes=5,no=6,missing=5\\n\\t\\t\\t5:leaf=0.0981459767\\n\\t\\t\\t6:leaf=0.000558870903\\n\\t\\t4:[f2<4.85000038] yes=7,no=8,missing=7\\n\\t\\t\\t7:leaf=0.00180445856\\n\\t\\t\\t8:leaf=-0.0642639101\\n',\n",
       " '0:[f2<4.75] yes=1,no=2,missing=1\\n\\t1:[f3<1.54999995] yes=3,no=4,missing=3\\n\\t\\t3:leaf=-0.0660015494\\n\\t\\t4:leaf=0.00352931558\\n\\t2:[f3<1.75] yes=5,no=6,missing=5\\n\\t\\t5:[f2<4.94999981] yes=7,no=8,missing=7\\n\\t\\t\\t7:leaf=-0.0371017866\\n\\t\\t\\t8:leaf=0.0406214707\\n\\t\\t6:[f2<4.85000038] yes=9,no=10,missing=9\\n\\t\\t\\t9:leaf=0.029666191\\n\\t\\t\\t10:leaf=0.101611219\\n',\n",
       " '0:[f2<2.45000005] yes=1,no=2,missing=1\\n\\t1:leaf=0.093177855\\n\\t2:leaf=-0.0643103123\\n',\n",
       " '0:[f2<2.45000005] yes=1,no=2,missing=1\\n\\t1:leaf=-0.0626210198\\n\\t2:[f3<1.75] yes=3,no=4,missing=3\\n\\t\\t3:[f2<4.94999981] yes=5,no=6,missing=5\\n\\t\\t\\t5:leaf=0.0901393816\\n\\t\\t\\t6:leaf=0.000519086083\\n\\t\\t4:[f2<4.85000038] yes=7,no=8,missing=7\\n\\t\\t\\t7:leaf=0.00159390457\\n\\t\\t\\t8:leaf=-0.0623135939\\n',\n",
       " '0:[f2<4.75] yes=1,no=2,missing=1\\n\\t1:[f3<1.54999995] yes=3,no=4,missing=3\\n\\t\\t3:leaf=-0.064097546\\n\\t\\t4:leaf=0.00464139087\\n\\t2:[f3<1.75] yes=5,no=6,missing=5\\n\\t\\t5:[f2<4.94999981] yes=7,no=8,missing=7\\n\\t\\t\\t7:leaf=-0.0357086584\\n\\t\\t\\t8:leaf=0.0376861356\\n\\t\\t6:[f2<4.85000038] yes=9,no=10,missing=9\\n\\t\\t\\t9:leaf=0.0278125741\\n\\t\\t\\t10:leaf=0.0933504999\\n',\n",
       " '0:[f2<2.45000005] yes=1,no=2,missing=1\\n\\t1:leaf=0.0866053402\\n\\t2:leaf=-0.0626301318\\n',\n",
       " '0:[f2<2.45000005] yes=1,no=2,missing=1\\n\\t1:leaf=-0.0608735643\\n\\t2:[f3<1.75] yes=3,no=4,missing=3\\n\\t\\t3:[f2<5.05000019] yes=5,no=6,missing=5\\n\\t\\t\\t5:leaf=0.0821424425\\n\\t\\t\\t6:leaf=-0.0119301667\\n\\t\\t4:[f2<4.85000038] yes=7,no=8,missing=7\\n\\t\\t\\t7:leaf=0.00143255782\\n\\t\\t\\t8:leaf=-0.0605467558\\n',\n",
       " '0:[f2<4.75] yes=1,no=2,missing=1\\n\\t1:[f3<1.54999995] yes=3,no=4,missing=3\\n\\t\\t3:leaf=-0.0623908043\\n\\t\\t4:leaf=0.0057460065\\n\\t2:[f3<1.75] yes=5,no=6,missing=5\\n\\t\\t5:[f2<4.94999981] yes=7,no=8,missing=7\\n\\t\\t\\t7:leaf=-0.0343685895\\n\\t\\t\\t8:leaf=0.0350265838\\n\\t\\t6:[f2<4.85000038] yes=9,no=10,missing=9\\n\\t\\t\\t9:leaf=0.0261029601\\n\\t\\t\\t10:leaf=0.0867040977\\n',\n",
       " '0:[f2<2.45000005] yes=1,no=2,missing=1\\n\\t1:leaf=0.0812249333\\n\\t2:leaf=-0.0611238182\\n',\n",
       " '0:[f2<2.45000005] yes=1,no=2,missing=1\\n\\t1:leaf=-0.0592877828\\n\\t2:[f3<1.75] yes=3,no=4,missing=3\\n\\t\\t3:[f2<4.94999981] yes=5,no=6,missing=5\\n\\t\\t\\t5:leaf=0.0783049017\\n\\t\\t\\t6:leaf=-0.000104263097\\n\\t\\t4:[f2<4.85000038] yes=7,no=8,missing=7\\n\\t\\t\\t7:leaf=0.00131171849\\n\\t\\t\\t8:leaf=-0.0589390211\\n',\n",
       " '0:[f2<4.75] yes=1,no=2,missing=1\\n\\t1:[f3<1.54999995] yes=3,no=4,missing=3\\n\\t\\t3:leaf=-0.0608629361\\n\\t\\t4:leaf=0.00680534542\\n\\t2:[f3<1.75] yes=5,no=6,missing=5\\n\\t\\t5:[f2<4.94999981] yes=7,no=8,missing=7\\n\\t\\t\\t7:leaf=-0.0330980942\\n\\t\\t\\t8:leaf=0.0330648348\\n\\t\\t6:[f2<4.85000038] yes=9,no=10,missing=9\\n\\t\\t\\t9:leaf=0.0245210268\\n\\t\\t\\t10:leaf=0.0812609196\\n',\n",
       " '0:[f2<2.45000005] yes=1,no=2,missing=1\\n\\t1:leaf=0.0767541975\\n\\t2:leaf=-0.0597674511\\n',\n",
       " '0:[f2<2.45000005] yes=1,no=2,missing=1\\n\\t1:leaf=-0.0578416288\\n\\t2:[f3<1.75] yes=3,no=4,missing=3\\n\\t\\t3:[f2<5.05000019] yes=5,no=6,missing=5\\n\\t\\t\\t5:leaf=0.0723640844\\n\\t\\t\\t6:leaf=-0.0114455801\\n\\t\\t4:[f2<4.85000038] yes=7,no=8,missing=7\\n\\t\\t\\t7:leaf=0.00122408045\\n\\t\\t\\t8:leaf=-0.0574686788\\n',\n",
       " '0:[f2<4.75] yes=1,no=2,missing=1\\n\\t1:[f3<1.54999995] yes=3,no=4,missing=3\\n\\t\\t3:leaf=-0.0594768189\\n\\t\\t4:leaf=0.0078795217\\n\\t2:[f3<1.75] yes=5,no=6,missing=5\\n\\t\\t5:[f2<4.94999981] yes=7,no=8,missing=7\\n\\t\\t\\t7:leaf=-0.0318584926\\n\\t\\t\\t8:leaf=0.0308163017\\n\\t\\t6:[f2<4.85000038] yes=9,no=10,missing=9\\n\\t\\t\\t9:leaf=0.0230530314\\n\\t\\t\\t10:leaf=0.0767356232\\n',\n",
       " '0:[f2<2.45000005] yes=1,no=2,missing=1\\n\\t1:leaf=0.07299117\\n\\t2:leaf=-0.0585423186\\n',\n",
       " '0:[f2<2.45000005] yes=1,no=2,missing=1\\n\\t1:leaf=-0.0565155707\\n\\t2:[f3<1.75] yes=3,no=4,missing=3\\n\\t\\t3:[f2<4.94999981] yes=5,no=6,missing=5\\n\\t\\t\\t5:leaf=0.0699423775\\n\\t\\t\\t6:leaf=-0.000462966942\\n\\t\\t4:[f2<4.85000038] yes=7,no=8,missing=7\\n\\t\\t\\t7:leaf=0.00116350257\\n\\t\\t\\t8:leaf=-0.0561164282\\n',\n",
       " '0:[f2<4.75] yes=1,no=2,missing=1\\n\\t1:[f3<1.54999995] yes=3,no=4,missing=3\\n\\t\\t3:leaf=-0.058226455\\n\\t\\t4:leaf=0.00889956765\\n\\t2:[f3<1.75] yes=5,no=6,missing=5\\n\\t\\t5:[f2<5.05000019] yes=7,no=8,missing=7\\n\\t\\t\\t7:leaf=-0.0178648159\\n\\t\\t\\t8:leaf=0.0363884456\\n\\t\\t6:[f2<4.85000038] yes=9,no=10,missing=9\\n\\t\\t\\t9:leaf=0.0216873344\\n\\t\\t\\t10:leaf=0.0729239658\\n',\n",
       " '0:[f2<2.45000005] yes=1,no=2,missing=1\\n\\t1:leaf=0.0697874054\\n\\t2:leaf=-0.0574322045\\n',\n",
       " '0:[f2<2.45000005] yes=1,no=2,missing=1\\n\\t1:leaf=-0.0552923381\\n\\t2:[f3<1.75] yes=3,no=4,missing=3\\n\\t\\t3:[f2<4.94999981] yes=5,no=6,missing=5\\n\\t\\t\\t5:leaf=0.0666062757\\n\\t\\t\\t6:leaf=-0.00058142643\\n\\t\\t4:[f2<4.85000038] yes=7,no=8,missing=7\\n\\t\\t\\t7:leaf=0.00112482684\\n\\t\\t\\t8:leaf=-0.0548651926\\n',\n",
       " '0:[f2<4.75] yes=1,no=2,missing=1\\n\\t1:[f3<1.54999995] yes=3,no=4,missing=3\\n\\t\\t3:leaf=-0.0570819937\\n\\t\\t4:leaf=0.00992801227\\n\\t2:[f3<1.75] yes=5,no=6,missing=5\\n\\t\\t5:[f2<5.05000019] yes=7,no=8,missing=7\\n\\t\\t\\t7:leaf=-0.0171087999\\n\\t\\t\\t8:leaf=0.0344029851\\n\\t\\t6:[f2<4.85000038] yes=9,no=10,missing=9\\n\\t\\t\\t9:leaf=0.0204140283\\n\\t\\t\\t10:leaf=0.0696759447\\n',\n",
       " '0:[f2<2.45000005] yes=1,no=2,missing=1\\n\\t1:leaf=0.0670315325\\n\\t2:leaf=-0.0564198606\\n',\n",
       " '0:[f2<2.45000005] yes=1,no=2,missing=1\\n\\t1:leaf=-0.0541566573\\n\\t2:[f3<1.75] yes=3,no=4,missing=3\\n\\t\\t3:[f2<4.94999981] yes=5,no=6,missing=5\\n\\t\\t\\t5:leaf=0.0636863634\\n\\t\\t\\t6:leaf=-0.000670485315\\n\\t\\t4:[f2<4.85000038] yes=7,no=8,missing=7\\n\\t\\t\\t7:leaf=0.00110371388\\n\\t\\t\\t8:leaf=-0.0536998324\\n',\n",
       " '0:[f2<4.75] yes=1,no=2,missing=1\\n\\t1:[f3<1.54999995] yes=3,no=4,missing=3\\n\\t\\t3:leaf=-0.056034606\\n\\t\\t4:leaf=0.0109293573\\n\\t2:[f3<1.75] yes=5,no=6,missing=5\\n\\t\\t5:[f2<5.05000019] yes=7,no=8,missing=7\\n\\t\\t\\t7:leaf=-0.016376242\\n\\t\\t\\t8:leaf=0.032558836\\n\\t\\t6:[f2<4.85000038] yes=9,no=10,missing=9\\n\\t\\t\\t9:leaf=0.0192245897\\n\\t\\t\\t10:leaf=0.0668789372\\n',\n",
       " '0:[f2<2.45000005] yes=1,no=2,missing=1\\n\\t1:leaf=0.0646382794\\n\\t2:leaf=-0.0554918945\\n',\n",
       " '0:[f2<2.45000005] yes=1,no=2,missing=1\\n\\t1:leaf=-0.0530949943\\n\\t2:[f3<1.6500001] yes=3,no=4,missing=3\\n\\t\\t3:[f2<4.94999981] yes=5,no=6,missing=5\\n\\t\\t\\t5:leaf=0.0655918047\\n\\t\\t\\t6:leaf=-0.020583773\\n\\t\\t4:[f2<5.05000019] yes=7,no=8,missing=7\\n\\t\\t\\t7:leaf=-0.0137194758\\n\\t\\t\\t8:leaf=-0.0519889668\\n',\n",
       " '0:[f2<4.75] yes=1,no=2,missing=1\\n\\t1:[f3<1.54999995] yes=3,no=4,missing=3\\n\\t\\t3:leaf=-0.055070769\\n\\t\\t4:leaf=0.0119014895\\n\\t2:[f3<1.75] yes=5,no=6,missing=5\\n\\t\\t5:[f3<1.54999995] yes=7,no=8,missing=7\\n\\t\\t\\t7:leaf=0.029638717\\n\\t\\t\\t8:leaf=-0.0206561517\\n\\t\\t6:[f2<4.85000038] yes=9,no=10,missing=9\\n\\t\\t\\t9:leaf=0.0181116778\\n\\t\\t\\t10:leaf=0.0644467548\\n',\n",
       " '0:[f2<2.45000005] yes=1,no=2,missing=1\\n\\t1:leaf=0.0625411794\\n\\t2:leaf=-0.0546343923\\n',\n",
       " '0:[f2<2.45000005] yes=1,no=2,missing=1\\n\\t1:leaf=-0.052095402\\n\\t2:[f3<1.6500001] yes=3,no=4,missing=3\\n\\t\\t3:[f2<4.94999981] yes=5,no=6,missing=5\\n\\t\\t\\t5:leaf=0.063474521\\n\\t\\t\\t6:leaf=-0.0201416314\\n\\t\\t4:[f2<5.05000019] yes=7,no=8,missing=7\\n\\t\\t\\t7:leaf=-0.0129124122\\n\\t\\t\\t8:leaf=-0.0509339347\\n',\n",
       " '0:[f2<4.75] yes=1,no=2,missing=1\\n\\t1:[f3<1.54999995] yes=3,no=4,missing=3\\n\\t\\t3:leaf=-0.0541627705\\n\\t\\t4:leaf=0.0122116385\\n\\t2:[f3<1.75] yes=5,no=6,missing=5\\n\\t\\t5:[f3<1.54999995] yes=7,no=8,missing=7\\n\\t\\t\\t7:leaf=0.0285918508\\n\\t\\t\\t8:leaf=-0.0209438186\\n\\t\\t6:[f2<4.85000038] yes=9,no=10,missing=9\\n\\t\\t\\t9:leaf=0.016771527\\n\\t\\t\\t10:leaf=0.0623573177\\n',\n",
       " '0:[f2<2.45000005] yes=1,no=2,missing=1\\n\\t1:leaf=0.0606878698\\n\\t2:leaf=-0.0538409837\\n',\n",
       " '0:[f2<2.45000005] yes=1,no=2,missing=1\\n\\t1:leaf=-0.0511472337\\n\\t2:[f3<1.75] yes=3,no=4,missing=3\\n\\t\\t3:[f2<5.05000019] yes=5,no=6,missing=5\\n\\t\\t\\t5:leaf=0.0553053692\\n\\t\\t\\t6:leaf=-0.00941319019\\n\\t\\t4:[f0<5.94999981] yes=7,no=8,missing=7\\n\\t\\t\\t7:leaf=-0.000681873062\\n\\t\\t\\t8:leaf=-0.0520168245\\n',\n",
       " '0:[f2<4.75] yes=1,no=2,missing=1\\n\\t1:[f3<1.54999995] yes=3,no=4,missing=3\\n\\t\\t3:leaf=-0.053316474\\n\\t\\t4:leaf=0.0125125097\\n\\t2:[f3<1.75] yes=5,no=6,missing=5\\n\\t\\t5:[f3<1.54999995] yes=7,no=8,missing=7\\n\\t\\t\\t7:leaf=0.0276195407\\n\\t\\t\\t8:leaf=-0.0211945549\\n\\t\\t6:[f0<5.94999981] yes=9,no=10,missing=9\\n\\t\\t\\t9:leaf=0.022845244\\n\\t\\t\\t10:leaf=0.0620850921\\n',\n",
       " '0:[f2<2.45000005] yes=1,no=2,missing=1\\n\\t1:leaf=0.0590362214\\n\\t2:leaf=-0.0531118475\\n',\n",
       " '0:[f2<2.45000005] yes=1,no=2,missing=1\\n\\t1:leaf=-0.050241109\\n\\t2:[f3<1.6500001] yes=3,no=4,missing=3\\n\\t\\t3:[f2<4.94999981] yes=5,no=6,missing=5\\n\\t\\t\\t5:leaf=0.0600483194\\n\\t\\t\\t6:leaf=-0.0200081579\\n\\t\\t4:[f2<5.05000019] yes=7,no=8,missing=7\\n\\t\\t\\t7:leaf=-0.0114077758\\n\\t\\t\\t8:leaf=-0.0490178689\\n',\n",
       " '0:[f2<4.75] yes=1,no=2,missing=1\\n\\t1:[f3<1.54999995] yes=3,no=4,missing=3\\n\\t\\t3:leaf=-0.0525425188\\n\\t\\t4:leaf=0.01336239\\n\\t2:[f3<1.75] yes=5,no=6,missing=5\\n\\t\\t5:[f3<1.54999995] yes=7,no=8,missing=7\\n\\t\\t\\t7:leaf=0.0271366369\\n\\t\\t\\t8:leaf=-0.0207825657\\n\\t\\t6:[f2<4.85000038] yes=9,no=10,missing=9\\n\\t\\t\\t9:leaf=0.0129135\\n\\t\\t\\t10:leaf=0.0589193888\\n',\n",
       " '0:[f2<2.45000005] yes=1,no=2,missing=1\\n\\t1:leaf=0.0575519279\\n\\t2:leaf=-0.0524169803\\n',\n",
       " '0:[f2<2.45000005] yes=1,no=2,missing=1\\n\\t1:leaf=-0.0493687056\\n\\t2:[f3<1.6500001] yes=3,no=4,missing=3\\n\\t\\t3:[f2<4.94999981] yes=5,no=6,missing=5\\n\\t\\t\\t5:leaf=0.0585597269\\n\\t\\t\\t6:leaf=-0.0195493642\\n\\t\\t4:[f2<5.05000019] yes=7,no=8,missing=7\\n\\t\\t\\t7:leaf=-0.0107084652\\n\\t\\t\\t8:leaf=-0.0480770878\\n',\n",
       " '0:[f2<4.75] yes=1,no=2,missing=1\\n\\t1:[f3<1.54999995] yes=3,no=4,missing=3\\n\\t\\t3:leaf=-0.0517902747\\n\\t\\t4:leaf=0.0136407437\\n\\t2:[f3<1.75] yes=5,no=6,missing=5\\n\\t\\t5:[f3<1.54999995] yes=7,no=8,missing=7\\n\\t\\t\\t7:leaf=0.026267454\\n\\t\\t\\t8:leaf=-0.0209881049\\n\\t\\t6:[f2<4.85000038] yes=9,no=10,missing=9\\n\\t\\t\\t9:leaf=0.0118482662\\n\\t\\t\\t10:leaf=0.0574227162\\n',\n",
       " '0:[f2<2.45000005] yes=1,no=2,missing=1\\n\\t1:leaf=0.0562071167\\n\\t2:leaf=-0.051760979\\n',\n",
       " '0:[f2<2.45000005] yes=1,no=2,missing=1\\n\\t1:leaf=-0.04852264\\n\\t2:[f3<1.6500001] yes=3,no=4,missing=3\\n\\t\\t3:[f2<4.94999981] yes=5,no=6,missing=5\\n\\t\\t\\t5:leaf=0.0572184585\\n\\t\\t\\t6:leaf=-0.0191013794\\n\\t\\t4:[f2<5.05000019] yes=7,no=8,missing=7\\n\\t\\t\\t7:leaf=-0.0100413756\\n\\t\\t\\t8:leaf=-0.0471604317\\n',\n",
       " '0:[f2<4.75] yes=1,no=2,missing=1\\n\\t1:[f3<1.54999995] yes=3,no=4,missing=3\\n\\t\\t3:leaf=-0.0510736182\\n\\t\\t4:leaf=0.013908118\\n\\t2:[f3<1.75] yes=5,no=6,missing=5\\n\\t\\t5:[f3<1.54999995] yes=7,no=8,missing=7\\n\\t\\t\\t7:leaf=0.0254562739\\n\\t\\t\\t8:leaf=-0.0211622249\\n\\t\\t6:[f0<5.94999981] yes=9,no=10,missing=9\\n\\t\\t\\t9:leaf=0.016588483\\n\\t\\t\\t10:leaf=0.0575834513\\n',\n",
       " '0:[f2<2.45000005] yes=1,no=2,missing=1\\n\\t1:leaf=0.0549785607\\n\\t2:leaf=-0.0511389337\\n',\n",
       " '0:[f2<2.45000005] yes=1,no=2,missing=1\\n\\t1:leaf=-0.0476964302\\n\\t2:[f3<1.6500001] yes=3,no=4,missing=3\\n\\t\\t3:[f2<4.94999981] yes=5,no=6,missing=5\\n\\t\\t\\t5:leaf=0.0560006462\\n\\t\\t\\t6:leaf=-0.0186649803\\n\\t\\t4:[f2<5.05000019] yes=7,no=8,missing=7\\n\\t\\t\\t7:leaf=-0.00915558077\\n\\t\\t\\t8:leaf=-0.0462917015\\n',\n",
       " '0:[f2<4.75] yes=1,no=2,missing=1\\n\\t1:[f3<1.54999995] yes=3,no=4,missing=3\\n\\t\\t3:leaf=-0.0503855124\\n\\t\\t4:leaf=0.0141642662\\n\\t2:[f3<1.75] yes=5,no=6,missing=5\\n\\t\\t5:[f3<1.54999995] yes=7,no=8,missing=7\\n\\t\\t\\t7:leaf=0.024698047\\n\\t\\t\\t8:leaf=-0.0213067234\\n\\t\\t6:[f0<5.94999981] yes=9,no=10,missing=9\\n\\t\\t\\t9:leaf=0.0150425015\\n\\t\\t\\t10:leaf=0.0562851429\\n',\n",
       " '0:[f2<2.45000005] yes=1,no=2,missing=1\\n\\t1:leaf=0.0538468547\\n\\t2:leaf=-0.0505435281\\n',\n",
       " '0:[f2<2.45000005] yes=1,no=2,missing=1\\n\\t1:leaf=-0.0468843877\\n\\t2:[f3<1.6500001] yes=3,no=4,missing=3\\n\\t\\t3:[f2<4.94999981] yes=5,no=6,missing=5\\n\\t\\t\\t5:leaf=0.0548864305\\n\\t\\t\\t6:leaf=-0.0182407554\\n\\t\\t4:[f2<5.05000019] yes=7,no=8,missing=7\\n\\t\\t\\t7:leaf=-0.0083051445\\n\\t\\t\\t8:leaf=-0.0454384647\\n',\n",
       " '0:[f3<1.6500001] yes=1,no=2,missing=1\\n\\t1:[f2<4.94999981] yes=3,no=4,missing=3\\n\\t\\t3:leaf=-0.0507124178\\n\\t\\t4:leaf=0.0340141505\\n\\t2:[f2<5.05000019] yes=5,no=6,missing=5\\n\\t\\t5:[f1<2.9000001] yes=7,no=8,missing=7\\n\\t\\t\\t7:leaf=0.0567095093\\n\\t\\t\\t8:leaf=-0.0188535322\\n\\t\\t6:leaf=0.0529513024\\n',\n",
       " '0:[f2<2.45000005] yes=1,no=2,missing=1\\n\\t1:leaf=0.0527907573\\n\\t2:leaf=-0.0499560535\\n',\n",
       " '0:[f2<2.45000005] yes=1,no=2,missing=1\\n\\t1:leaf=-0.0460821539\\n\\t2:[f3<1.6500001] yes=3,no=4,missing=3\\n\\t\\t3:[f2<4.94999981] yes=5,no=6,missing=5\\n\\t\\t\\t5:leaf=0.0537161492\\n\\t\\t\\t6:leaf=-0.0171231758\\n\\t\\t4:[f2<5.05000019] yes=7,no=8,missing=7\\n\\t\\t\\t7:leaf=-0.00764143933\\n\\t\\t\\t8:leaf=-0.0445675515\\n',\n",
       " '0:[f3<1.6500001] yes=1,no=2,missing=1\\n\\t1:[f2<4.94999981] yes=3,no=4,missing=3\\n\\t\\t3:leaf=-0.0500392988\\n\\t\\t4:leaf=0.0320586339\\n\\t2:[f2<5.05000019] yes=5,no=6,missing=5\\n\\t\\t5:[f1<2.9000001] yes=7,no=8,missing=7\\n\\t\\t\\t7:leaf=0.0552085638\\n\\t\\t\\t8:leaf=-0.0189039018\\n\\t\\t6:leaf=0.0518365093\\n',\n",
       " '0:[f2<2.45000005] yes=1,no=2,missing=1\\n\\t1:leaf=0.0518018901\\n\\t2:leaf=-0.0493849479\\n',\n",
       " '0:[f2<2.45000005] yes=1,no=2,missing=1\\n\\t1:leaf=-0.0452848189\\n\\t2:[f3<1.6500001] yes=3,no=4,missing=3\\n\\t\\t3:[f2<4.94999981] yes=5,no=6,missing=5\\n\\t\\t\\t5:leaf=0.0526252985\\n\\t\\t\\t6:leaf=-0.0160571095\\n\\t\\t4:[f2<5.05000019] yes=7,no=8,missing=7\\n\\t\\t\\t7:leaf=-0.0070165121\\n\\t\\t\\t8:leaf=-0.0437022448\\n',\n",
       " '0:[f3<1.6500001] yes=1,no=2,missing=1\\n\\t1:[f2<4.94999981] yes=3,no=4,missing=3\\n\\t\\t3:leaf=-0.0493841544\\n\\t\\t4:leaf=0.0302338731\\n\\t2:[f2<5.05000019] yes=5,no=6,missing=5\\n\\t\\t5:[f1<2.9000001] yes=7,no=8,missing=7\\n\\t\\t\\t7:leaf=0.0537871495\\n\\t\\t\\t8:leaf=-0.0189185739\\n\\t\\t6:leaf=0.0507866815\\n',\n",
       " '0:[f2<2.45000005] yes=1,no=2,missing=1\\n\\t1:leaf=0.0508683026\\n\\t2:leaf=-0.0488260984\\n',\n",
       " '0:[f2<2.45000005] yes=1,no=2,missing=1\\n\\t1:leaf=-0.0444888249\\n\\t2:[f3<1.6500001] yes=3,no=4,missing=3\\n\\t\\t3:[f2<4.94999981] yes=5,no=6,missing=5\\n\\t\\t\\t5:leaf=0.0516000763\\n\\t\\t\\t6:leaf=-0.0150409928\\n\\t\\t4:[f1<2.95000005] yes=7,no=8,missing=7\\n\\t\\t\\t7:leaf=-0.0484891348\\n\\t\\t\\t8:leaf=-0.0115758283\\n',\n",
       " '0:[f3<1.6500001] yes=1,no=2,missing=1\\n\\t1:[f2<4.94999981] yes=3,no=4,missing=3\\n\\t\\t3:leaf=-0.0487420037\\n\\t\\t4:leaf=0.0285267271\\n\\t2:[f2<5.05000019] yes=5,no=6,missing=5\\n\\t\\t5:[f1<2.9000001] yes=7,no=8,missing=7\\n\\t\\t\\t7:leaf=0.0524373241\\n\\t\\t\\t8:leaf=-0.0189000722\\n\\t\\t6:leaf=0.0497901626\\n',\n",
       " '0:[f2<2.45000005] yes=1,no=2,missing=1\\n\\t1:leaf=0.0499797389\\n\\t2:leaf=-0.048278559\\n',\n",
       " '0:[f2<2.45000005] yes=1,no=2,missing=1\\n\\t1:leaf=-0.0436912142\\n\\t2:[f2<5.14999962] yes=3,no=4,missing=3\\n\\t\\t3:[f3<1.6500001] yes=5,no=6,missing=5\\n\\t\\t\\t5:leaf=0.0461762436\\n\\t\\t\\t6:leaf=-0.012080363\\n\\t\\t4:leaf=-0.044984322\\n',\n",
       " '0:[f3<1.6500001] yes=1,no=2,missing=1\\n\\t1:[f2<4.94999981] yes=3,no=4,missing=3\\n\\t\\t3:leaf=-0.0481083803\\n\\t\\t4:leaf=0.0269260705\\n\\t2:[f2<5.05000019] yes=5,no=6,missing=5\\n\\t\\t5:[f1<2.9000001] yes=7,no=8,missing=7\\n\\t\\t\\t7:leaf=0.0505131781\\n\\t\\t\\t8:leaf=-0.0189808812\\n\\t\\t6:leaf=0.0489367284\\n',\n",
       " '0:[f2<2.45000005] yes=1,no=2,missing=1\\n\\t1:leaf=0.0491274484\\n\\t2:leaf=-0.0477401726\\n',\n",
       " '0:[f2<2.45000005] yes=1,no=2,missing=1\\n\\t1:leaf=-0.0428896509\\n\\t2:[f2<5.14999962] yes=3,no=4,missing=3\\n\\t\\t3:[f3<1.6500001] yes=5,no=6,missing=5\\n\\t\\t\\t5:leaf=0.0448904596\\n\\t\\t\\t6:leaf=-0.0111961374\\n\\t\\t4:leaf=-0.044120945\\n',\n",
       " '0:[f3<1.6500001] yes=1,no=2,missing=1\\n\\t1:[f2<4.94999981] yes=3,no=4,missing=3\\n\\t\\t3:leaf=-0.0474956781\\n\\t\\t4:leaf=0.0260108002\\n\\t2:[f2<5.05000019] yes=5,no=6,missing=5\\n\\t\\t5:[f1<2.9000001] yes=7,no=8,missing=7\\n\\t\\t\\t7:leaf=0.0492090248\\n\\t\\t\\t8:leaf=-0.0190582424\\n\\t\\t6:leaf=0.0480319411\\n',\n",
       " '0:[f2<2.45000005] yes=1,no=2,missing=1\\n\\t1:leaf=0.0483038872\\n\\t2:leaf=-0.0472056232\\n',\n",
       " '0:[f2<2.45000005] yes=1,no=2,missing=1\\n\\t1:leaf=-0.0420823656\\n\\t2:[f2<5.14999962] yes=3,no=4,missing=3\\n\\t\\t3:[f3<1.6500001] yes=5,no=6,missing=5\\n\\t\\t\\t5:leaf=0.0436216183\\n\\t\\t\\t6:leaf=-0.0103624621\\n\\t\\t4:leaf=-0.0432607196\\n',\n",
       " '0:[f3<1.6500001] yes=1,no=2,missing=1\\n\\t1:[f2<4.94999981] yes=3,no=4,missing=3\\n\\t\\t3:leaf=-0.0468855463\\n\\t\\t4:leaf=0.0251683798\\n\\t2:[f2<5.05000019] yes=5,no=6,missing=5\\n\\t\\t5:[f1<2.9000001] yes=7,no=8,missing=7\\n\\t\\t\\t7:leaf=0.0479665659\\n\\t\\t\\t8:leaf=-0.0190974977\\n\\t\\t6:leaf=0.0471561626\\n',\n",
       " '0:[f2<2.45000005] yes=1,no=2,missing=1\\n\\t1:leaf=0.0475026481\\n\\t2:leaf=-0.0466726236\\n',\n",
       " '0:[f2<2.45000005] yes=1,no=2,missing=1\\n\\t1:leaf=-0.0412681103\\n\\t2:[f2<5.14999962] yes=3,no=4,missing=3\\n\\t\\t3:[f3<1.6500001] yes=5,no=6,missing=5\\n\\t\\t\\t5:leaf=0.0423648283\\n\\t\\t\\t6:leaf=-0.00957841799\\n\\t\\t4:leaf=-0.0424028784\\n',\n",
       " '0:[f3<1.6500001] yes=1,no=2,missing=1\\n\\t1:[f2<4.94999981] yes=3,no=4,missing=3\\n\\t\\t3:leaf=-0.0462752394\\n\\t\\t4:leaf=0.0243925508\\n\\t2:[f2<5.05000019] yes=5,no=6,missing=5\\n\\t\\t5:[f1<2.9000001] yes=7,no=8,missing=7\\n\\t\\t\\t7:leaf=0.0467811562\\n\\t\\t\\t8:leaf=-0.0191012155\\n\\t\\t6:leaf=0.0463034622\\n',\n",
       " '0:[f2<2.45000005] yes=1,no=2,missing=1\\n\\t1:leaf=0.0467182733\\n\\t2:leaf=-0.0461392365\\n',\n",
       " '0:[f2<2.45000005] yes=1,no=2,missing=1\\n\\t1:leaf=-0.0404461734\\n\\t2:[f2<5.14999962] yes=3,no=4,missing=3\\n\\t\\t3:[f3<1.6500001] yes=5,no=6,missing=5\\n\\t\\t\\t5:leaf=0.0411165729\\n\\t\\t\\t6:leaf=-0.00884286035\\n\\t\\t4:leaf=-0.0415470712\\n',\n",
       " '0:[f2<4.85000038] yes=1,no=2,missing=1\\n\\t1:[f3<1.6500001] yes=3,no=4,missing=3\\n\\t\\t3:leaf=-0.0453295335\\n\\t\\t4:leaf=0.020527456\\n\\t2:[f3<1.75] yes=5,no=6,missing=5\\n\\t\\t5:[f3<1.54999995] yes=7,no=8,missing=7\\n\\t\\t\\t7:leaf=0.0327068679\\n\\t\\t\\t8:leaf=-0.0292314477\\n\\t\\t6:leaf=0.0469293259\\n',\n",
       " '0:[f2<2.45000005] yes=1,no=2,missing=1\\n\\t1:leaf=0.0459476188\\n\\t2:leaf=-0.0455993973\\n',\n",
       " '0:[f2<2.45000005] yes=1,no=2,missing=1\\n\\t1:leaf=-0.039616216\\n\\t2:[f2<5.14999962] yes=3,no=4,missing=3\\n\\t\\t3:[f3<1.6500001] yes=5,no=6,missing=5\\n\\t\\t\\t5:leaf=0.0398224033\\n\\t\\t\\t6:leaf=-0.00796067342\\n\\t\\t4:leaf=-0.0408012867\\n',\n",
       " '0:[f2<4.85000038] yes=1,no=2,missing=1\\n\\t1:[f3<1.6500001] yes=3,no=4,missing=3\\n\\t\\t3:leaf=-0.0447051488\\n\\t\\t4:leaf=0.0194596108\\n\\t2:[f3<1.75] yes=5,no=6,missing=5\\n\\t\\t5:[f3<1.54999995] yes=7,no=8,missing=7\\n\\t\\t\\t7:leaf=0.0322668217\\n\\t\\t\\t8:leaf=-0.0286529958\\n\\t\\t6:leaf=0.0461609289\\n',\n",
       " '0:[f2<2.45000005] yes=1,no=2,missing=1\\n\\t1:leaf=0.0451854691\\n\\t2:leaf=-0.0450561233\\n',\n",
       " '0:[f2<2.45000005] yes=1,no=2,missing=1\\n\\t1:leaf=-0.0387785546\\n\\t2:[f2<5.14999962] yes=3,no=4,missing=3\\n\\t\\t3:[f3<1.6500001] yes=5,no=6,missing=5\\n\\t\\t\\t5:leaf=0.0385336429\\n\\t\\t\\t6:leaf=-0.00712692691\\n\\t\\t4:leaf=-0.0400610715\\n',\n",
       " '0:[f2<4.85000038] yes=1,no=2,missing=1\\n\\t1:[f3<1.6500001] yes=3,no=4,missing=3\\n\\t\\t3:leaf=-0.0440741293\\n\\t\\t4:leaf=0.0184582714\\n\\t2:[f3<1.75] yes=5,no=6,missing=5\\n\\t\\t5:[f3<1.54999995] yes=7,no=8,missing=7\\n\\t\\t\\t7:leaf=0.031853307\\n\\t\\t\\t8:leaf=-0.0280780885\\n\\t\\t6:leaf=0.0454063267\\n',\n",
       " '0:[f2<2.45000005] yes=1,no=2,missing=1\\n\\t1:leaf=0.0444287173\\n\\t2:leaf=-0.0445084237\\n',\n",
       " '0:[f2<2.45000005] yes=1,no=2,missing=1\\n\\t1:leaf=-0.0379338115\\n\\t2:[f2<5.14999962] yes=3,no=4,missing=3\\n\\t\\t3:[f3<1.6500001] yes=5,no=6,missing=5\\n\\t\\t\\t5:leaf=0.0372512974\\n\\t\\t\\t6:leaf=-0.00634040544\\n\\t\\t4:leaf=-0.0393268503\\n',\n",
       " '0:[f2<4.44999981] yes=1,no=2,missing=1\\n\\t1:leaf=-0.0414838009\\n\\t2:[f2<5.14999962] yes=3,no=4,missing=3\\n\\t\\t3:[f1<2.8499999] yes=5,no=6,missing=5\\n\\t\\t\\t5:leaf=0.0255207773\\n\\t\\t\\t6:leaf=-0.021932466\\n\\t\\t4:leaf=0.045620691\\n',\n",
       " '0:[f2<2.45000005] yes=1,no=2,missing=1\\n\\t1:leaf=0.0436832458\\n\\t2:leaf=-0.043966677\\n',\n",
       " '0:[f2<2.45000005] yes=1,no=2,missing=1\\n\\t1:leaf=-0.0370824412\\n\\t2:[f2<5.14999962] yes=3,no=4,missing=3\\n\\t\\t3:[f3<1.6500001] yes=5,no=6,missing=5\\n\\t\\t\\t5:leaf=0.0361907408\\n\\t\\t\\t6:leaf=-0.00623880653\\n\\t\\t4:leaf=-0.0383521914\\n',\n",
       " '0:[f2<4.44999981] yes=1,no=2,missing=1\\n\\t1:leaf=-0.0407700203\\n\\t2:[f2<5.14999962] yes=3,no=4,missing=3\\n\\t\\t3:[f1<2.8499999] yes=5,no=6,missing=5\\n\\t\\t\\t5:leaf=0.0250292551\\n\\t\\t\\t6:leaf=-0.0213522408\\n\\t\\t4:leaf=0.0446617901\\n',\n",
       " '0:[f2<2.45000005] yes=1,no=2,missing=1\\n\\t1:leaf=0.0429392532\\n\\t2:leaf=-0.0434204414\\n',\n",
       " '0:[f2<2.45000005] yes=1,no=2,missing=1\\n\\t1:leaf=-0.0362262279\\n\\t2:[f2<5.14999962] yes=3,no=4,missing=3\\n\\t\\t3:[f3<1.6500001] yes=5,no=6,missing=5\\n\\t\\t\\t5:leaf=0.0351452231\\n\\t\\t\\t6:leaf=-0.00614177343\\n\\t\\t4:leaf=-0.0373845994\\n',\n",
       " '0:[f2<4.44999981] yes=1,no=2,missing=1\\n\\t1:leaf=-0.0400465392\\n\\t2:[f2<5.14999962] yes=3,no=4,missing=3\\n\\t\\t3:[f1<3.04999995] yes=5,no=6,missing=5\\n\\t\\t\\t5:leaf=0.0175777655\\n\\t\\t\\t6:leaf=-0.0337689631\\n\\t\\t4:leaf=0.0437155329\\n',\n",
       " '0:[f2<2.45000005] yes=1,no=2,missing=1\\n\\t1:leaf=0.042195417\\n\\t2:leaf=-0.0428592376\\n',\n",
       " '0:[f2<2.45000005] yes=1,no=2,missing=1\\n\\t1:leaf=-0.0353667252\\n\\t2:[f2<5.14999962] yes=3,no=4,missing=3\\n\\t\\t3:[f3<1.6500001] yes=5,no=6,missing=5\\n\\t\\t\\t5:leaf=0.0340394862\\n\\t\\t\\t6:leaf=-0.00577574503\\n\\t\\t4:leaf=-0.0364253819\\n',\n",
       " '0:[f2<4.44999981] yes=1,no=2,missing=1\\n\\t1:leaf=-0.0393140055\\n\\t2:[f2<5.14999962] yes=3,no=4,missing=3\\n\\t\\t3:[f1<2.8499999] yes=5,no=6,missing=5\\n\\t\\t\\t5:leaf=0.0243521985\\n\\t\\t\\t6:leaf=-0.0208770651\\n\\t\\t4:leaf=0.0427806489\\n',\n",
       " '0:[f2<2.45000005] yes=1,no=2,missing=1\\n\\t1:leaf=0.0414508358\\n\\t2:leaf=-0.0423033424\\n',\n",
       " '0:[f2<2.45000005] yes=1,no=2,missing=1\\n\\t1:leaf=-0.0345056765\\n\\t2:[f2<5.14999962] yes=3,no=4,missing=3\\n\\t\\t3:[f3<1.6500001] yes=5,no=6,missing=5\\n\\t\\t\\t5:leaf=0.0330283493\\n\\t\\t\\t6:leaf=-0.0056989179\\n\\t\\t4:leaf=-0.0354758985\\n',\n",
       " '0:[f2<4.44999981] yes=1,no=2,missing=1\\n\\t1:leaf=-0.0385736376\\n\\t2:[f2<5.14999962] yes=3,no=4,missing=3\\n\\t\\t3:[f1<2.8499999] yes=5,no=6,missing=5\\n\\t\\t\\t5:leaf=0.0239127167\\n\\t\\t\\t6:leaf=-0.0203351136\\n\\t\\t4:leaf=0.0418563113\\n',\n",
       " '0:[f2<2.45000005] yes=1,no=2,missing=1\\n\\t1:leaf=0.040705014\\n\\t2:leaf=-0.0417428873\\n',\n",
       " '0:[f0<5.44999981] yes=1,no=2,missing=1\\n\\t1:leaf=-0.0295326356\\n\\t2:[f2<5.14999962] yes=3,no=4,missing=3\\n\\t\\t3:[f3<1.75] yes=5,no=6,missing=5\\n\\t\\t\\t5:leaf=0.0337998495\\n\\t\\t\\t6:leaf=-0.0102496054\\n\\t\\t4:leaf=-0.0345375389\\n',\n",
       " '0:[f2<4.44999981] yes=1,no=2,missing=1\\n\\t1:leaf=-0.0378263071\\n\\t2:[f2<5.14999962] yes=3,no=4,missing=3\\n\\t\\t3:[f1<2.5999999] yes=5,no=6,missing=5\\n\\t\\t\\t5:leaf=0.0378046334\\n\\t\\t\\t6:leaf=-0.0101431897\\n\\t\\t4:leaf=0.0409418754\\n',\n",
       " '0:[f2<2.45000005] yes=1,no=2,missing=1\\n\\t1:leaf=0.0400134586\\n\\t2:leaf=-0.0412050337\\n',\n",
       " '0:[f0<5.44999981] yes=1,no=2,missing=1\\n\\t1:leaf=-0.0285075046\\n\\t2:[f2<5.14999962] yes=3,no=4,missing=3\\n\\t\\t3:[f3<1.75] yes=5,no=6,missing=5\\n\\t\\t\\t5:leaf=0.0325935893\\n\\t\\t\\t6:leaf=-0.0101902429\\n\\t\\t4:leaf=-0.0336116664\\n',\n",
       " '0:[f2<4.44999981] yes=1,no=2,missing=1\\n\\t1:leaf=-0.037110351\\n\\t2:[f2<5.14999962] yes=3,no=4,missing=3\\n\\t\\t3:[f1<3.04999995] yes=5,no=6,missing=5\\n\\t\\t\\t5:leaf=0.0169793349\\n\\t\\t\\t6:leaf=-0.0323479883\\n\\t\\t4:leaf=0.0400370546\\n',\n",
       " '0:[f2<2.45000005] yes=1,no=2,missing=1\\n\\t1:leaf=0.0393246077\\n\\t2:leaf=-0.0406429842\\n',\n",
       " '0:[f2<2.45000005] yes=1,no=2,missing=1\\n\\t1:leaf=-0.0321910419\\n\\t2:[f2<5.14999962] yes=3,no=4,missing=3\\n\\t\\t3:[f1<2.54999995] yes=5,no=6,missing=5\\n\\t\\t\\t5:leaf=-0.0113964677\\n\\t\\t\\t6:leaf=0.0279297512\\n\\t\\t4:leaf=-0.0326996408\\n',\n",
       " '0:[f3<1.3499999] yes=1,no=2,missing=1\\n\\t1:leaf=-0.0364121944\\n\\t2:[f2<5.14999962] yes=3,no=4,missing=3\\n\\t\\t3:[f1<2.8499999] yes=5,no=6,missing=5\\n\\t\\t\\t5:leaf=0.0241737869\\n\\t\\t\\t6:leaf=-0.0200340487\\n\\t\\t4:leaf=0.0391416214\\n',\n",
       " '0:[f2<2.45000005] yes=1,no=2,missing=1\\n\\t1:leaf=0.0385751911\\n\\t2:leaf=-0.0401029289\\n',\n",
       " '0:[f0<5.44999981] yes=1,no=2,missing=1\\n\\t1:leaf=-0.0270012319\\n\\t2:[f3<1.75] yes=3,no=4,missing=3\\n\\t\\t3:[f1<2.6500001] yes=5,no=6,missing=5\\n\\t\\t\\t5:leaf=-0.000467285019\\n\\t\\t\\t6:leaf=0.0329253785\\n\\t\\t4:[f1<3.04999995] yes=7,no=8,missing=7\\n\\t\\t\\t7:leaf=-0.0383569263\\n\\t\\t\\t8:leaf=0.014294344\\n',\n",
       " '0:[f2<4.44999981] yes=1,no=2,missing=1\\n\\t1:leaf=-0.0357296579\\n\\t2:[f2<5.14999962] yes=3,no=4,missing=3\\n\\t\\t3:[f1<3.04999995] yes=5,no=6,missing=5\\n\\t\\t\\t5:leaf=0.0166159458\\n\\t\\t\\t6:leaf=-0.0308825877\\n\\t\\t4:leaf=0.0382558368\\n',\n",
       " '0:[f2<2.45000005] yes=1,no=2,missing=1\\n\\t1:leaf=0.0378888473\\n\\t2:leaf=-0.0395580418\\n',\n",
       " '0:[f2<5.14999962] yes=1,no=2,missing=1\\n\\t1:[f0<5.44999981] yes=3,no=4,missing=3\\n\\t\\t3:leaf=-0.0261308886\\n\\t\\t4:[f3<1.75] yes=5,no=6,missing=5\\n\\t\\t\\t5:leaf=0.0304602589\\n\\t\\t\\t6:leaf=-0.0101306261\\n\\t2:leaf=-0.0313304737\\n',\n",
       " '0:[f3<1.3499999] yes=1,no=2,missing=1\\n\\t1:leaf=-0.0350818075\\n\\t2:[f2<5.14999962] yes=3,no=4,missing=3\\n\\t\\t3:[f1<2.8499999] yes=5,no=6,missing=5\\n\\t\\t\\t5:leaf=0.0228362288\\n\\t\\t\\t6:leaf=-0.0187055077\\n\\t\\t4:leaf=0.0376297608\\n',\n",
       " '0:[f2<2.45000005] yes=1,no=2,missing=1\\n\\t1:leaf=0.0372050367\\n\\t2:leaf=-0.0389989652\\n',\n",
       " '0:[f2<2.45000005] yes=1,no=2,missing=1\\n\\t1:leaf=-0.0299476478\\n\\t2:[f3<1.75] yes=3,no=4,missing=3\\n\\t\\t3:[f1<2.6500001] yes=5,no=6,missing=5\\n\\t\\t\\t5:leaf=-0.00851321872\\n\\t\\t\\t6:leaf=0.0352339894\\n\\t\\t4:[f1<3.04999995] yes=7,no=8,missing=7\\n\\t\\t\\t7:leaf=-0.0373524688\\n\\t\\t\\t8:leaf=0.0146479085\\n',\n",
       " '0:[f3<1.75] yes=1,no=2,missing=1\\n\\t1:[f1<2.6500001] yes=3,no=4,missing=3\\n\\t\\t3:leaf=0.0206550043\\n\\t\\t4:[f2<5.05000019] yes=7,no=8,missing=7\\n\\t\\t\\t7:leaf=-0.04250158\\n\\t\\t\\t8:leaf=-9.42997067e-05\\n\\t2:[f0<5.94999981] yes=5,no=6,missing=5\\n\\t\\t5:leaf=-0.0109167062\\n\\t\\t6:leaf=0.0426721424\\n',\n",
       " '0:[f2<2.45000005] yes=1,no=2,missing=1\\n\\t1:leaf=0.0364220552\\n\\t2:leaf=-0.0384161286\\n',\n",
       " '0:[f2<5.14999962] yes=1,no=2,missing=1\\n\\t1:[f0<5.44999981] yes=3,no=4,missing=3\\n\\t\\t3:[f0<4.94999981] yes=5,no=6,missing=5\\n\\t\\t\\t5:leaf=-0.0294452365\\n\\t\\t\\t6:leaf=-0.00744978711\\n\\t\\t4:[f3<1.75] yes=7,no=8,missing=7\\n\\t\\t\\t7:leaf=0.0285679754\\n\\t\\t\\t8:leaf=-0.00892241951\\n\\t2:leaf=-0.0301009268\\n',\n",
       " '0:[f2<4.44999981] yes=1,no=2,missing=1\\n\\t1:leaf=-0.0337625034\\n\\t2:[f1<3.1500001] yes=3,no=4,missing=3\\n\\t\\t3:[f3<1.75] yes=5,no=6,missing=5\\n\\t\\t\\t5:leaf=0.00277513033\\n\\t\\t\\t6:leaf=0.0417352691\\n\\t\\t4:leaf=-0.0126228696\\n',\n",
       " '0:[f2<2.45000005] yes=1,no=2,missing=1\\n\\t1:leaf=0.0357831977\\n\\t2:leaf=-0.0378389247\\n',\n",
       " '0:[f2<5.14999962] yes=1,no=2,missing=1\\n\\t1:[f0<5.44999981] yes=3,no=4,missing=3\\n\\t\\t3:leaf=-0.0241175201\\n\\t\\t4:[f3<1.75] yes=5,no=6,missing=5\\n\\t\\t\\t5:leaf=0.0274935495\\n\\t\\t\\t6:leaf=-0.00796839129\\n\\t2:leaf=-0.0295503885\\n',\n",
       " '0:[f3<1.3499999] yes=1,no=2,missing=1\\n\\t1:leaf=-0.0330561697\\n\\t2:[f1<3.1500001] yes=3,no=4,missing=3\\n\\t\\t3:[f3<1.75] yes=5,no=6,missing=5\\n\\t\\t\\t5:leaf=0.00304066506\\n\\t\\t\\t6:leaf=0.0409810729\\n\\t\\t4:leaf=-0.0128198788\\n',\n",
       " '0:[f2<2.45000005] yes=1,no=2,missing=1\\n\\t1:leaf=0.0351091549\\n\\t2:leaf=-0.0372723155\\n',\n",
       " '0:[f2<5.14999962] yes=1,no=2,missing=1\\n\\t1:[f0<5.44999981] yes=3,no=4,missing=3\\n\\t\\t3:leaf=-0.0234001968\\n\\t\\t4:[f3<1.75] yes=5,no=6,missing=5\\n\\t\\t\\t5:leaf=0.0264484584\\n\\t\\t\\t6:leaf=-0.00706033641\\n\\t2:leaf=-0.029014308\\n',\n",
       " '0:[f2<4.85000038] yes=1,no=2,missing=1\\n\\t1:[f1<3.04999995] yes=3,no=4,missing=3\\n\\t\\t3:[f3<1.60000002] yes=7,no=8,missing=7\\n\\t\\t\\t7:leaf=-0.0297161788\\n\\t\\t\\t8:leaf=0.0391289182\\n\\t\\t4:leaf=-0.0434730165\\n\\t2:[f3<1.75] yes=5,no=6,missing=5\\n\\t\\t5:[f3<1.54999995] yes=9,no=10,missing=9\\n\\t\\t\\t9:leaf=0.031821657\\n\\t\\t\\t10:leaf=-0.0318113267\\n\\t\\t6:leaf=0.0374290869\\n',\n",
       " '0:[f2<2.45000005] yes=1,no=2,missing=1\\n\\t1:leaf=0.0343963467\\n\\t2:leaf=-0.0366770998\\n',\n",
       " '0:[f2<5.14999962] yes=1,no=2,missing=1\\n\\t1:[f0<5.44999981] yes=3,no=4,missing=3\\n\\t\\t3:leaf=-0.0225205366\\n\\t\\t4:[f3<1.75] yes=5,no=6,missing=5\\n\\t\\t\\t5:leaf=0.0253552049\\n\\t\\t\\t6:leaf=-0.00639492273\\n\\t2:leaf=-0.0283992589\\n',\n",
       " '0:[f2<4.85000038] yes=1,no=2,missing=1\\n\\t1:[f1<3.04999995] yes=3,no=4,missing=3\\n\\t\\t3:[f3<1.60000002] yes=7,no=8,missing=7\\n\\t\\t\\t7:leaf=-0.0291156601\\n\\t\\t\\t8:leaf=0.0380851738\\n\\t\\t4:leaf=-0.04287019\\n\\t2:[f3<1.75] yes=5,no=6,missing=5\\n\\t\\t5:[f3<1.54999995] yes=9,no=10,missing=9\\n\\t\\t\\t9:leaf=0.0314893685\\n\\t\\t\\t10:leaf=-0.0307236351\\n\\t\\t6:leaf=0.0367379151\\n',\n",
       " '0:[f2<2.45000005] yes=1,no=2,missing=1\\n\\t1:leaf=0.0336913951\\n\\t2:leaf=-0.0360844173\\n',\n",
       " '0:[f2<5.14999962] yes=1,no=2,missing=1\\n\\t1:[f0<5.44999981] yes=3,no=4,missing=3\\n\\t\\t3:leaf=-0.0216728989\\n\\t\\t4:[f3<1.75] yes=5,no=6,missing=5\\n\\t\\t\\t5:leaf=0.0243067928\\n\\t\\t\\t6:leaf=-0.00577456784\\n\\t2:leaf=-0.0278025903\\n',\n",
       " '0:[f2<4.85000038] yes=1,no=2,missing=1\\n\\t1:[f1<3.04999995] yes=3,no=4,missing=3\\n\\t\\t3:[f3<1.60000002] yes=7,no=8,missing=7\\n\\t\\t\\t7:leaf=-0.0285326876\\n\\t\\t\\t8:leaf=0.0370974727\\n\\t\\t4:leaf=-0.0422592461\\n\\t2:[f3<1.75] yes=5,no=6,missing=5\\n\\t\\t5:[f3<1.54999995] yes=9,no=10,missing=9\\n\\t\\t\\t9:leaf=0.0311523024\\n\\t\\t\\t10:leaf=-0.0296942983\\n\\t\\t6:leaf=0.0360530168\\n',\n",
       " '0:[f2<2.45000005] yes=1,no=2,missing=1\\n\\t1:leaf=0.0329953916\\n\\t2:leaf=-0.0354951248\\n',\n",
       " '0:[f2<5.14999962] yes=1,no=2,missing=1\\n\\t1:[f0<5.44999981] yes=3,no=4,missing=3\\n\\t\\t3:leaf=-0.0208569225\\n\\t\\t4:[f2<4.85000038] yes=5,no=6,missing=5\\n\\t\\t\\t5:leaf=0.0271038208\\n\\t\\t\\t6:leaf=-0.00104560249\\n\\t2:leaf=-0.0272244606\\n',\n",
       " '0:[f2<4.85000038] yes=1,no=2,missing=1\\n\\t1:[f1<3.04999995] yes=3,no=4,missing=3\\n\\t\\t3:[f3<1.60000002] yes=7,no=8,missing=7\\n\\t\\t\\t7:leaf=-0.027967114\\n\\t\\t\\t8:leaf=0.0361612551\\n\\t\\t4:leaf=-0.0416419692\\n\\t2:[f3<1.75] yes=5,no=6,missing=5\\n\\t\\t5:[f3<1.54999995] yes=9,no=10,missing=9\\n\\t\\t\\t9:leaf=0.0308104213\\n\\t\\t\\t10:leaf=-0.028719265\\n\\t\\t6:leaf=0.0353749953\\n',\n",
       " '0:[f2<2.45000005] yes=1,no=2,missing=1\\n\\t1:leaf=0.0323134698\\n\\t2:leaf=-0.0349038057\\n',\n",
       " '0:[f2<5.14999962] yes=1,no=2,missing=1\\n\\t1:[f2<2.45000005] yes=3,no=4,missing=3\\n\\t\\t3:leaf=-0.0254361965\\n\\t\\t4:[f1<2.54999995] yes=5,no=6,missing=5\\n\\t\\t\\t5:leaf=-0.0120223342\\n\\t\\t\\t6:leaf=0.023033483\\n\\t2:leaf=-0.0266649164\\n',\n",
       " '0:[f2<4.85000038] yes=1,no=2,missing=1\\n\\t1:[f1<3.04999995] yes=3,no=4,missing=3\\n\\t\\t3:[f3<1.60000002] yes=7,no=8,missing=7\\n\\t\\t\\t7:leaf=-0.0273852777\\n\\t\\t\\t8:leaf=0.0355251096\\n\\t\\t4:leaf=-0.0406914577\\n\\t2:[f3<1.75] yes=5,no=6,missing=5\\n\\t\\t5:[f3<1.54999995] yes=9,no=10,missing=9\\n\\t\\t\\t9:leaf=0.0298934374\\n\\t\\t\\t10:leaf=-0.028230831\\n\\t\\t6:leaf=0.0347226225\\n',\n",
       " '0:[f2<2.45000005] yes=1,no=2,missing=1\\n\\t1:leaf=0.0315529555\\n\\t2:leaf=-0.0343241058\\n',\n",
       " '0:[f0<5.14999962] yes=1,no=2,missing=1\\n\\t1:leaf=-0.0212941319\\n\\t2:[f2<4.85000038] yes=3,no=4,missing=3\\n\\t\\t3:[f0<5.94999981] yes=5,no=6,missing=5\\n\\t\\t\\t5:leaf=0.0315503031\\n\\t\\t\\t6:leaf=0.00494160829\\n\\t\\t4:[f3<1.75] yes=7,no=8,missing=7\\n\\t\\t\\t7:leaf=0.00347681786\\n\\t\\t\\t8:leaf=-0.0290124509\\n',\n",
       " '0:[f2<4.85000038] yes=1,no=2,missing=1\\n\\t1:[f1<3.04999995] yes=3,no=4,missing=3\\n\\t\\t3:[f3<1.60000002] yes=7,no=8,missing=7\\n\\t\\t\\t7:leaf=-0.0268734079\\n\\t\\t\\t8:leaf=0.0349528417\\n\\t\\t4:leaf=-0.0397853926\\n\\t2:[f3<1.75] yes=5,no=6,missing=5\\n\\t\\t5:[f3<1.54999995] yes=9,no=10,missing=9\\n\\t\\t\\t9:leaf=0.0291074757\\n\\t\\t\\t10:leaf=-0.0273240935\\n\\t\\t6:leaf=0.0341620035\\n',\n",
       " '0:[f2<2.45000005] yes=1,no=2,missing=1\\n\\t1:leaf=0.0309550073\\n\\t2:leaf=-0.0337484367\\n',\n",
       " '0:[f0<5.14999962] yes=1,no=2,missing=1\\n\\t1:leaf=-0.0205317512\\n\\t2:[f2<4.94999981] yes=3,no=4,missing=3\\n\\t\\t3:[f0<5.94999981] yes=5,no=6,missing=5\\n\\t\\t\\t5:leaf=0.028476188\\n\\t\\t\\t6:leaf=0.00608300231\\n\\t\\t4:[f3<1.54999995] yes=7,no=8,missing=7\\n\\t\\t\\t7:leaf=-0.0365763009\\n\\t\\t\\t8:leaf=0.00608917885\\n',\n",
       " '0:[f2<4.85000038] yes=1,no=2,missing=1\\n\\t1:[f1<3.04999995] yes=3,no=4,missing=3\\n\\t\\t3:[f3<1.60000002] yes=7,no=8,missing=7\\n\\t\\t\\t7:leaf=-0.0263466965\\n\\t\\t\\t8:leaf=0.0341916196\\n\\t\\t4:leaf=-0.0388137177\\n\\t2:[f3<1.75] yes=5,no=6,missing=5\\n\\t\\t5:[f3<1.54999995] yes=9,no=10,missing=9\\n\\t\\t\\t9:leaf=0.0283923391\\n\\t\\t\\t10:leaf=-0.0265759863\\n\\t\\t6:leaf=0.0333844312\\n',\n",
       " '0:[f2<2.45000005] yes=1,no=2,missing=1\\n\\t1:leaf=0.0303677656\\n\\t2:leaf=-0.033182051\\n',\n",
       " '0:[f0<5.44999981] yes=1,no=2,missing=1\\n\\t1:leaf=-0.0185208526\\n\\t2:[f2<4.94999981] yes=3,no=4,missing=3\\n\\t\\t3:[f0<5.94999981] yes=5,no=6,missing=5\\n\\t\\t\\t5:leaf=0.0316838361\\n\\t\\t\\t6:leaf=0.00599558419\\n\\t\\t4:[f0<6.05000019] yes=7,no=8,missing=7\\n\\t\\t\\t7:leaf=9.39770325e-05\\n\\t\\t\\t8:leaf=-0.0173049942\\n',\n",
       " '0:[f2<4.85000038] yes=1,no=2,missing=1\\n\\t1:[f1<3.04999995] yes=3,no=4,missing=3\\n\\t\\t3:[f3<1.60000002] yes=7,no=8,missing=7\\n\\t\\t\\t7:leaf=-0.025840003\\n\\t\\t\\t8:leaf=0.0334734432\\n\\t\\t4:leaf=-0.0378790274\\n\\t2:[f3<1.75] yes=5,no=6,missing=5\\n\\t\\t5:[f3<1.54999995] yes=9,no=10,missing=9\\n\\t\\t\\t9:leaf=0.0270472355\\n\\t\\t\\t10:leaf=-0.025782669\\n\\t\\t6:leaf=0.0329063348\\n',\n",
       " '0:[f2<2.45000005] yes=1,no=2,missing=1\\n\\t1:leaf=0.0297445003\\n\\t2:leaf=-0.0326330736\\n',\n",
       " '0:[f0<5.44999981] yes=1,no=2,missing=1\\n\\t1:leaf=-0.0178313721\\n\\t2:[f2<4.94999981] yes=3,no=4,missing=3\\n\\t\\t3:[f3<1.70000005] yes=5,no=6,missing=5\\n\\t\\t\\t5:leaf=0.0281099565\\n\\t\\t\\t6:leaf=0.00314047351\\n\\t\\t4:[f0<6.5999999] yes=7,no=8,missing=7\\n\\t\\t\\t7:leaf=-0.0165663101\\n\\t\\t\\t8:leaf=0.000640183163\\n',\n",
       " '0:[f2<4.94999981] yes=1,no=2,missing=1\\n\\t1:[f3<1.6500001] yes=3,no=4,missing=3\\n\\t\\t3:leaf=-0.0334079973\\n\\t\\t4:leaf=0.0119760102\\n\\t2:[f3<1.54999995] yes=5,no=6,missing=5\\n\\t\\t5:leaf=0.0363051817\\n\\t\\t6:[f3<1.75] yes=7,no=8,missing=7\\n\\t\\t\\t7:leaf=-0.0254206397\\n\\t\\t\\t8:leaf=0.0299892034\\n',\n",
       " '0:[f2<2.45000005] yes=1,no=2,missing=1\\n\\t1:leaf=0.029140396\\n\\t2:leaf=-0.0320627205\\n',\n",
       " '0:[f0<5.14999962] yes=1,no=2,missing=1\\n\\t1:leaf=-0.0186577383\\n\\t2:[f2<4.94999981] yes=3,no=4,missing=3\\n\\t\\t3:[f0<5.94999981] yes=5,no=6,missing=5\\n\\t\\t\\t5:leaf=0.0265749488\\n\\t\\t\\t6:leaf=0.00495318649\\n\\t\\t4:[f0<6.05000019] yes=7,no=8,missing=7\\n\\t\\t\\t7:leaf=0.000914604112\\n\\t\\t\\t8:leaf=-0.0163640622\\n',\n",
       " '0:[f2<5.14999962] yes=1,no=2,missing=1\\n\\t1:[f1<2.8499999] yes=3,no=4,missing=3\\n\\t\\t3:[f3<1.6500001] yes=5,no=6,missing=5\\n\\t\\t\\t5:leaf=-0.00630158046\\n\\t\\t\\t6:leaf=0.0303949155\\n\\t\\t4:[f3<1.75] yes=7,no=8,missing=7\\n\\t\\t\\t7:leaf=-0.0341842398\\n\\t\\t\\t8:leaf=-0.00150340004\\n\\t2:leaf=0.030311605\\n',\n",
       " '0:[f2<2.45000005] yes=1,no=2,missing=1\\n\\t1:leaf=0.0285997279\\n\\t2:leaf=-0.0315268375\\n',\n",
       " '0:[f0<5.44999981] yes=1,no=2,missing=1\\n\\t1:leaf=-0.0168399829\\n\\t2:[f2<4.94999981] yes=3,no=4,missing=3\\n\\t\\t3:[f0<5.94999981] yes=5,no=6,missing=5\\n\\t\\t\\t5:leaf=0.0297869835\\n\\t\\t\\t6:leaf=0.00450783968\\n\\t\\t4:[f0<6.05000019] yes=7,no=8,missing=7\\n\\t\\t\\t7:leaf=0.000853898178\\n\\t\\t\\t8:leaf=-0.0159310587\\n',\n",
       " '0:[f2<5.14999962] yes=1,no=2,missing=1\\n\\t1:[f1<2.8499999] yes=3,no=4,missing=3\\n\\t\\t3:[f3<1.6500001] yes=5,no=6,missing=5\\n\\t\\t\\t5:leaf=-0.00613974733\\n\\t\\t\\t6:leaf=0.0298021734\\n\\t\\t4:[f3<1.75] yes=7,no=8,missing=7\\n\\t\\t\\t7:leaf=-0.0337000042\\n\\t\\t\\t8:leaf=-0.0013004964\\n\\t2:leaf=0.0296262391\\n',\n",
       " '0:[f2<2.45000005] yes=1,no=2,missing=1\\n\\t1:leaf=0.0280232485\\n\\t2:leaf=-0.031003749\\n',\n",
       " '0:[f0<5.44999981] yes=1,no=2,missing=1\\n\\t1:leaf=-0.0161556192\\n\\t2:[f2<4.85000038] yes=3,no=4,missing=3\\n\\t\\t3:[f0<5.94999981] yes=5,no=6,missing=5\\n\\t\\t\\t5:leaf=0.0314941034\\n\\t\\t\\t6:leaf=0.00231733499\\n\\t\\t4:[f3<1.75] yes=7,no=8,missing=7\\n\\t\\t\\t7:leaf=0.00420694379\\n\\t\\t\\t8:leaf=-0.0262590591\\n',\n",
       " '0:[f2<5.14999962] yes=1,no=2,missing=1\\n\\t1:[f1<3.04999995] yes=3,no=4,missing=3\\n\\t\\t3:[f3<1.75] yes=5,no=6,missing=5\\n\\t\\t\\t5:leaf=-0.00936857704\\n\\t\\t\\t6:leaf=0.0309214089\\n\\t\\t4:leaf=-0.0304177608\\n\\t2:leaf=0.0289570782\\n',\n",
       " '0:[f2<2.45000005] yes=1,no=2,missing=1\\n\\t1:leaf=0.0274934415\\n\\t2:leaf=-0.0304759033\\n',\n",
       " '0:[f0<5.14999962] yes=1,no=2,missing=1\\n\\t1:leaf=-0.0169050302\\n\\t2:[f2<4.94999981] yes=3,no=4,missing=3\\n\\t\\t3:[f0<5.94999981] yes=5,no=6,missing=5\\n\\t\\t\\t5:leaf=0.0249316152\\n\\t\\t\\t6:leaf=0.00414685579\\n\\t\\t4:[f0<6.5999999] yes=7,no=8,missing=7\\n\\t\\t\\t7:leaf=-0.0153020844\\n\\t\\t\\t8:leaf=0.00167816866\\n',\n",
       " '0:[f3<1.45000005] yes=1,no=2,missing=1\\n\\t1:leaf=-0.0225881021\\n\\t2:[f1<3.04999995] yes=3,no=4,missing=3\\n\\t\\t3:[f3<1.75] yes=5,no=6,missing=5\\n\\t\\t\\t5:leaf=0.00465468504\\n\\t\\t\\t6:leaf=0.0331567079\\n\\t\\t4:leaf=-0.012696323\\n',\n",
       " '0:[f2<2.45000005] yes=1,no=2,missing=1\\n\\t1:leaf=0.027037045\\n\\t2:leaf=-0.0299932715\\n',\n",
       " '0:[f0<5.44999981] yes=1,no=2,missing=1\\n\\t1:leaf=-0.0154820727\\n\\t2:[f2<4.94999981] yes=3,no=4,missing=3\\n\\t\\t3:[f0<5.94999981] yes=5,no=6,missing=5\\n\\t\\t\\t5:leaf=0.0276517011\\n\\t\\t\\t6:leaf=0.00417388324\\n\\t\\t4:[f0<6.05000019] yes=7,no=8,missing=7\\n\\t\\t\\t7:leaf=0.00142501481\\n\\t\\t\\t8:leaf=-0.0151210651\\n',\n",
       " '0:[f2<5.14999962] yes=1,no=2,missing=1\\n\\t1:[f1<2.8499999] yes=3,no=4,missing=3\\n\\t\\t3:[f1<2.54999995] yes=5,no=6,missing=5\\n\\t\\t\\t5:leaf=0.0173024442\\n\\t\\t\\t6:leaf=-0.00150285114\\n\\t\\t4:[f3<1.75] yes=7,no=8,missing=7\\n\\t\\t\\t7:leaf=-0.0326715671\\n\\t\\t\\t8:leaf=-0.00102014909\\n\\t2:leaf=0.0281368084\\n',\n",
       " '0:[f2<2.45000005] yes=1,no=2,missing=1\\n\\t1:leaf=0.0265009943\\n\\t2:leaf=-0.029508207\\n',\n",
       " '0:[f0<5.44999981] yes=1,no=2,missing=1\\n\\t1:leaf=-0.0148327788\\n\\t2:[f2<4.94999981] yes=3,no=4,missing=3\\n\\t\\t3:[f0<5.94999981] yes=5,no=6,missing=5\\n\\t\\t\\t5:leaf=0.0270287599\\n\\t\\t\\t6:leaf=0.00375912455\\n\\t\\t4:[f0<6.5999999] yes=7,no=8,missing=7\\n\\t\\t\\t7:leaf=-0.0144052608\\n\\t\\t\\t8:leaf=0.00208154437\\n',\n",
       " '0:[f2<5.14999962] yes=1,no=2,missing=1\\n\\t1:[f1<2.8499999] yes=3,no=4,missing=3\\n\\t\\t3:[f1<2.54999995] yes=5,no=6,missing=5\\n\\t\\t\\t5:leaf=0.0167094953\\n\\t\\t\\t6:leaf=-0.00151276833\\n\\t\\t4:[f3<1.75] yes=7,no=8,missing=7\\n\\t\\t\\t7:leaf=-0.0322240964\\n\\t\\t\\t8:leaf=-0.000795980741\\n\\t2:leaf=0.0275049116\\n',\n",
       " '0:[f2<2.45000005] yes=1,no=2,missing=1\\n\\t1:leaf=0.0259807091\\n\\t2:leaf=-0.0290276445\\n',\n",
       " '0:[f0<5.14999962] yes=1,no=2,missing=1\\n\\t1:leaf=-0.0152383102\\n\\t2:[f2<4.94999981] yes=3,no=4,missing=3\\n\\t\\t3:[f3<1.70000005] yes=5,no=6,missing=5\\n\\t\\t\\t5:leaf=0.022148462\\n\\t\\t\\t6:leaf=0.00172813411\\n\\t\\t4:[f0<6.05000019] yes=7,no=8,missing=7\\n\\t\\t\\t7:leaf=0.00206325576\\n\\t\\t\\t8:leaf=-0.0146410018\\n',\n",
       " '0:[f2<5.14999962] yes=1,no=2,missing=1\\n\\t1:[f1<3.04999995] yes=3,no=4,missing=3\\n\\t\\t3:[f3<1.75] yes=5,no=6,missing=5\\n\\t\\t\\t5:leaf=-0.00960581936\\n\\t\\t\\t6:leaf=0.0297547672\\n\\t\\t4:leaf=-0.028082205\\n\\t2:leaf=0.0270010866\\n',\n",
       " '0:[f2<2.45000005] yes=1,no=2,missing=1\\n\\t1:leaf=0.0255430918\\n\\t2:leaf=-0.0285052489\\n',\n",
       " '0:[f0<5.44999981] yes=1,no=2,missing=1\\n\\t1:leaf=-0.0140247047\\n\\t2:[f2<4.94999981] yes=3,no=4,missing=3\\n\\t\\t3:[f0<5.94999981] yes=5,no=6,missing=5\\n\\t\\t\\t5:leaf=0.0259807743\\n\\t\\t\\t6:leaf=0.00305121532\\n\\t\\t4:[f0<6.05000019] yes=7,no=8,missing=7\\n\\t\\t\\t7:leaf=0.00192605914\\n\\t\\t\\t8:leaf=-0.0141870184\\n',\n",
       " '0:[f3<1.45000005] yes=1,no=2,missing=1\\n\\t1:leaf=-0.021313224\\n\\t2:[f1<3.04999995] yes=3,no=4,missing=3\\n\\t\\t3:[f3<1.75] yes=5,no=6,missing=5\\n\\t\\t\\t5:leaf=0.00335386884\\n\\t\\t\\t6:leaf=0.0319063179\\n\\t\\t4:leaf=-0.0124544613\\n',\n",
       " '0:[f2<3.1500001] yes=1,no=2,missing=1\\n\\t1:leaf=0.0241208412\\n\\t2:leaf=-0.0278009772\\n',\n",
       " '0:[f0<5.44999981] yes=1,no=2,missing=1\\n\\t1:leaf=-0.0136591522\\n\\t2:[f2<4.94999981] yes=3,no=4,missing=3\\n\\t\\t3:[f0<5.94999981] yes=5,no=6,missing=5\\n\\t\\t\\t5:leaf=0.0253198948\\n\\t\\t\\t6:leaf=0.00312591414\\n\\t\\t4:[f0<6.05000019] yes=7,no=8,missing=7\\n\\t\\t\\t7:leaf=0.00207553967\\n\\t\\t\\t8:leaf=-0.0137664974\\n',\n",
       " '0:[f3<1.45000005] yes=1,no=2,missing=1\\n\\t1:leaf=-0.020830771\\n\\t2:[f1<3.04999995] yes=3,no=4,missing=3\\n\\t\\t3:[f3<1.75] yes=5,no=6,missing=5\\n\\t\\t\\t5:leaf=0.0029598868\\n\\t\\t\\t6:leaf=0.0314208865\\n\\t\\t4:leaf=-0.012106332\\n',\n",
       " '0:[f2<3.4000001] yes=1,no=2,missing=1\\n\\t1:leaf=0.0217702016\\n\\t2:leaf=-0.0268035475\\n',\n",
       " '0:[f3<1.75] yes=1,no=2,missing=1\\n\\t1:[f0<5.44999981] yes=3,no=4,missing=3\\n\\t\\t3:leaf=-0.0132781481\\n\\t\\t4:[f3<1.54999995] yes=5,no=6,missing=5\\n\\t\\t\\t5:leaf=-0.00389731722\\n\\t\\t\\t6:leaf=0.0317304209\\n\\t2:leaf=-0.0109629957\\n',\n",
       " '0:[f3<1.45000005] yes=1,no=2,missing=1\\n\\t1:leaf=-0.0203660224\\n\\t2:[f1<3.04999995] yes=3,no=4,missing=3\\n\\t\\t3:[f3<1.75] yes=5,no=6,missing=5\\n\\t\\t\\t5:leaf=0.00259152474\\n\\t\\t\\t6:leaf=0.0309471618\\n\\t\\t4:leaf=-0.0117662866\\n',\n",
       " '0:[f2<3.4000001] yes=1,no=2,missing=1\\n\\t1:leaf=0.0211883262\\n\\t2:leaf=-0.0264101215\\n',\n",
       " '0:[f2<5.05000019] yes=1,no=2,missing=1\\n\\t1:[f0<6.25] yes=3,no=4,missing=3\\n\\t\\t3:[f0<5.94999981] yes=5,no=6,missing=5\\n\\t\\t\\t5:leaf=0.00662046252\\n\\t\\t\\t6:leaf=-0.0222887564\\n\\t\\t4:leaf=0.0288213324\\n\\t2:leaf=-0.0108519681\\n',\n",
       " '0:[f2<4.94999981] yes=1,no=2,missing=1\\n\\t1:[f3<1.6500001] yes=3,no=4,missing=3\\n\\t\\t3:leaf=-0.0294546336\\n\\t\\t4:leaf=0.00988114253\\n\\t2:[f0<6.05000019] yes=5,no=6,missing=5\\n\\t\\t5:leaf=0.000420155091\\n\\t\\t6:leaf=0.0191501435\\n',\n",
       " '0:[f3<1.04999995] yes=1,no=2,missing=1\\n\\t1:leaf=0.019683931\\n\\t2:leaf=-0.0255756322\\n',\n",
       " '0:[f0<5.44999981] yes=1,no=2,missing=1\\n\\t1:leaf=-0.0129569424\\n\\t2:[f2<4.94999981] yes=3,no=4,missing=3\\n\\t\\t3:[f0<5.94999981] yes=5,no=6,missing=5\\n\\t\\t\\t5:leaf=0.0247305091\\n\\t\\t\\t6:leaf=0.00322884321\\n\\t\\t4:[f0<6.05000019] yes=7,no=8,missing=7\\n\\t\\t\\t7:leaf=0.00248678215\\n\\t\\t\\t8:leaf=-0.0132525787\\n',\n",
       " '0:[f2<4.85000038] yes=1,no=2,missing=1\\n\\t1:[f3<1.6500001] yes=3,no=4,missing=3\\n\\t\\t3:leaf=-0.0265135672\\n\\t\\t4:leaf=0.00552057242\\n\\t2:[f3<1.75] yes=5,no=6,missing=5\\n\\t\\t5:[f3<1.54999995] yes=7,no=8,missing=7\\n\\t\\t\\t7:leaf=0.0250639599\\n\\t\\t\\t8:leaf=-0.0268948767\\n\\t\\t6:leaf=0.0274131056\\n',\n",
       " '0:leaf=-0.00401406595\\n',\n",
       " '0:[f0<5.44999981] yes=1,no=2,missing=1\\n\\t1:leaf=-0.0126032429\\n\\t2:[f2<4.94999981] yes=3,no=4,missing=3\\n\\t\\t3:[f0<5.94999981] yes=5,no=6,missing=5\\n\\t\\t\\t5:leaf=0.02425934\\n\\t\\t\\t6:leaf=0.00306978915\\n\\t\\t4:[f0<6.05000019] yes=7,no=8,missing=7\\n\\t\\t\\t7:leaf=0.00247690012\\n\\t\\t\\t8:leaf=-0.012864748\\n',\n",
       " '0:[f1<3.1500001] yes=1,no=2,missing=1\\n\\t1:[f3<1.75] yes=3,no=4,missing=3\\n\\t\\t3:[f1<2.6500001] yes=5,no=6,missing=5\\n\\t\\t\\t5:leaf=0.0155935083\\n\\t\\t\\t6:leaf=-0.0187472273\\n\\t\\t4:leaf=0.0308434945\\n\\t2:leaf=-0.0187779572\\n',\n",
       " '0:leaf=-0.00391172385\\n',\n",
       " '0:[f0<5.44999981] yes=1,no=2,missing=1\\n\\t1:leaf=-0.0122038713\\n\\t2:[f2<4.94999981] yes=3,no=4,missing=3\\n\\t\\t3:[f0<5.94999981] yes=5,no=6,missing=5\\n\\t\\t\\t5:leaf=0.0235342979\\n\\t\\t\\t6:leaf=0.00328198564\\n\\t\\t4:[f0<6.05000019] yes=7,no=8,missing=7\\n\\t\\t\\t7:leaf=0.00248853187\\n\\t\\t\\t8:leaf=-0.0127864331\\n',\n",
       " '0:[f2<4.94999981] yes=1,no=2,missing=1\\n\\t1:[f3<1.6500001] yes=3,no=4,missing=3\\n\\t\\t3:leaf=-0.0285049118\\n\\t\\t4:leaf=0.00931744743\\n\\t2:[f0<6.05000019] yes=5,no=6,missing=5\\n\\t\\t5:leaf=-0.000115554176\\n\\t\\t6:leaf=0.0180953871\\n',\n",
       " '0:leaf=-0.00382590084\\n',\n",
       " '0:[f0<5.85000038] yes=1,no=2,missing=1\\n\\t1:leaf=-0.0100020822\\n\\t2:[f2<4.94999981] yes=3,no=4,missing=3\\n\\t\\t3:leaf=0.0171964597\\n\\t\\t4:[f0<6.14999962] yes=5,no=6,missing=5\\n\\t\\t\\t5:leaf=0.0035967126\\n\\t\\t\\t6:leaf=-0.0106954519\\n',\n",
       " '0:[f1<3.1500001] yes=1,no=2,missing=1\\n\\t1:[f3<1.75] yes=3,no=4,missing=3\\n\\t\\t3:[f1<2.6500001] yes=5,no=6,missing=5\\n\\t\\t\\t5:leaf=0.0153301135\\n\\t\\t\\t6:leaf=-0.0187143181\\n\\t\\t4:leaf=0.0302943941\\n\\t2:leaf=-0.0181984659\\n',\n",
       " '0:leaf=-0.00382228196\\n',\n",
       " '0:[f0<5.44999981] yes=1,no=2,missing=1\\n\\t1:leaf=-0.0117202206\\n\\t2:[f2<4.94999981] yes=3,no=4,missing=3\\n\\t\\t3:[f0<5.94999981] yes=5,no=6,missing=5\\n\\t\\t\\t5:leaf=0.0227673892\\n\\t\\t\\t6:leaf=0.00277189468\\n\\t\\t4:[f0<6.05000019] yes=7,no=8,missing=7\\n\\t\\t\\t7:leaf=0.00243437197\\n\\t\\t\\t8:leaf=-0.0119762393\\n',\n",
       " '0:[f1<3.1500001] yes=1,no=2,missing=1\\n\\t1:[f3<1.75] yes=3,no=4,missing=3\\n\\t\\t3:[f1<2.6500001] yes=5,no=6,missing=5\\n\\t\\t\\t5:leaf=0.0149011854\\n\\t\\t\\t6:leaf=-0.0182590894\\n\\t\\t4:leaf=0.0299589522\\n\\t2:leaf=-0.0176512152\\n',\n",
       " '0:leaf=-0.00372424163\\n',\n",
       " '0:[f2<5.05000019] yes=1,no=2,missing=1\\n\\t1:[f0<6.25] yes=3,no=4,missing=3\\n\\t\\t3:[f0<5.94999981] yes=5,no=6,missing=5\\n\\t\\t\\t5:leaf=0.00595738878\\n\\t\\t\\t6:leaf=-0.0216173753\\n\\t\\t4:leaf=0.0281928927\\n\\t2:leaf=-0.00960736442\\n',\n",
       " '0:[f2<4.94999981] yes=1,no=2,missing=1\\n\\t1:[f3<1.6500001] yes=3,no=4,missing=3\\n\\t\\t3:leaf=-0.0279002078\\n\\t\\t4:leaf=0.00916017126\\n\\t2:[f0<6.05000019] yes=5,no=6,missing=5\\n\\t\\t5:leaf=-0.000129938417\\n\\t\\t6:leaf=0.0172847901\\n',\n",
       " '0:leaf=-0.00352221145\\n',\n",
       " '0:[f0<5.85000038] yes=1,no=2,missing=1\\n\\t1:leaf=-0.00984089915\\n\\t2:[f3<1.54999995] yes=3,no=4,missing=3\\n\\t\\t3:leaf=-0.00931465998\\n\\t\\t4:[f3<1.75] yes=5,no=6,missing=5\\n\\t\\t\\t5:leaf=0.03017479\\n\\t\\t\\t6:leaf=-0.00599028962\\n',\n",
       " '0:[f1<3.1500001] yes=1,no=2,missing=1\\n\\t1:[f3<1.75] yes=3,no=4,missing=3\\n\\t\\t3:[f1<2.6500001] yes=5,no=6,missing=5\\n\\t\\t\\t5:leaf=0.0146776885\\n\\t\\t\\t6:leaf=-0.0180322155\\n\\t\\t4:leaf=0.0292645935\\n\\t2:leaf=-0.0172532387\\n',\n",
       " '0:leaf=-0.00358045218\\n',\n",
       " '0:[f2<5.05000019] yes=1,no=2,missing=1\\n\\t1:[f0<6.14999962] yes=3,no=4,missing=3\\n\\t\\t3:[f1<3.04999995] yes=5,no=6,missing=5\\n\\t\\t\\t5:leaf=-0.0122381253\\n\\t\\t\\t6:leaf=0.00746061234\\n\\t\\t4:leaf=0.0229504798\\n\\t2:leaf=-0.00955532398\\n',\n",
       " '0:[f2<4.94999981] yes=1,no=2,missing=1\\n\\t1:[f3<1.6500001] yes=3,no=4,missing=3\\n\\t\\t3:leaf=-0.0274694562\\n\\t\\t4:leaf=0.00838130247\\n\\t2:[f0<6.05000019] yes=5,no=6,missing=5\\n\\t\\t5:leaf=-0.000343915977\\n\\t\\t6:leaf=0.0174085386\\n',\n",
       " '0:leaf=-0.00345445238\\n',\n",
       " '0:[f0<5.85000038] yes=1,no=2,missing=1\\n\\t1:leaf=-0.00943249371\\n\\t2:[f3<1.54999995] yes=3,no=4,missing=3\\n\\t\\t3:leaf=-0.0093210591\\n\\t\\t4:[f3<1.75] yes=5,no=6,missing=5\\n\\t\\t\\t5:leaf=0.0291503463\\n\\t\\t\\t6:leaf=-0.00534465862\\n',\n",
       " '0:[f2<4.94999981] yes=1,no=2,missing=1\\n\\t1:[f3<1.6500001] yes=3,no=4,missing=3\\n\\t\\t3:leaf=-0.0270836987\\n\\t\\t4:leaf=0.00812605582\\n\\t2:[f0<6.05000019] yes=5,no=6,missing=5\\n\\t\\t5:leaf=-0.000603427354\\n\\t\\t6:leaf=0.0169950109\\n',\n",
       " '0:leaf=-0.00352033041\\n',\n",
       " '0:[f0<5.85000038] yes=1,no=2,missing=1\\n\\t1:leaf=-0.00936506595\\n\\t2:[f3<1.54999995] yes=3,no=4,missing=3\\n\\t\\t3:leaf=-0.00922027137\\n\\t\\t4:[f0<6.05000019] yes=5,no=6,missing=5\\n\\t\\t\\t5:leaf=0.0279589444\\n\\t\\t\\t6:leaf=-0.00565910945\\n',\n",
       " '0:[f2<4.94999981] yes=1,no=2,missing=1\\n\\t1:[f3<1.6500001] yes=3,no=4,missing=3\\n\\t\\t3:leaf=-0.0268204808\\n\\t\\t4:leaf=0.00773194432\\n\\t2:[f0<6.05000019] yes=5,no=6,missing=5\\n\\t\\t5:leaf=-0.000388807122\\n\\t\\t6:leaf=0.0167807247\\n',\n",
       " '0:leaf=-0.00359305972\\n',\n",
       " '0:[f0<5.85000038] yes=1,no=2,missing=1\\n\\t1:leaf=-0.00929898862\\n\\t2:[f3<1.54999995] yes=3,no=4,missing=3\\n\\t\\t3:leaf=-0.00911918283\\n\\t\\t4:[f3<1.75] yes=5,no=6,missing=5\\n\\t\\t\\t5:leaf=0.028635649\\n\\t\\t\\t6:leaf=-0.00503306091\\n',\n",
       " '0:[f2<4.94999981] yes=1,no=2,missing=1\\n\\t1:[f3<1.6500001] yes=3,no=4,missing=3\\n\\t\\t3:leaf=-0.0265700221\\n\\t\\t4:leaf=0.00783714652\\n\\t2:[f0<6.05000019] yes=5,no=6,missing=5\\n\\t\\t5:leaf=-0.000160719166\\n\\t\\t6:leaf=0.0161733646\\n',\n",
       " '0:leaf=-0.00365489419\\n',\n",
       " '0:[f0<5.85000038] yes=1,no=2,missing=1\\n\\t1:leaf=-0.00923151989\\n\\t2:[f3<1.54999995] yes=3,no=4,missing=3\\n\\t\\t3:leaf=-0.00902083702\\n\\t\\t4:[f3<1.75] yes=5,no=6,missing=5\\n\\t\\t\\t5:leaf=0.0281159282\\n\\t\\t\\t6:leaf=-0.00462942524\\n',\n",
       " '0:[f2<4.94999981] yes=1,no=2,missing=1\\n\\t1:[f3<1.6500001] yes=3,no=4,missing=3\\n\\t\\t3:leaf=-0.0263134222\\n\\t\\t4:leaf=0.007458515\\n\\t2:[f0<6.05000019] yes=5,no=6,missing=5\\n\\t\\t5:leaf=3.89936577e-05\\n\\t\\t6:leaf=0.0159820002\\n',\n",
       " '0:leaf=-0.00371465762\\n',\n",
       " '0:[f0<5.85000038] yes=1,no=2,missing=1\\n\\t1:leaf=-0.00916551147\\n\\t2:[f3<1.54999995] yes=3,no=4,missing=3\\n\\t\\t3:leaf=-0.00892213173\\n\\t\\t4:[f0<6.05000019] yes=5,no=6,missing=5\\n\\t\\t\\t5:leaf=0.0271389671\\n\\t\\t\\t6:leaf=-0.00516996114\\n',\n",
       " '0:[f1<3.04999995] yes=1,no=2,missing=1\\n\\t1:[f3<1.6500001] yes=3,no=4,missing=3\\n\\t\\t3:[f0<6.05000019] yes=5,no=6,missing=5\\n\\t\\t\\t5:leaf=-0.0130723463\\n\\t\\t\\t6:leaf=0.0130552817\\n\\t\\t4:leaf=0.0162869021\\n\\t2:leaf=-0.0160553716\\n',\n",
       " '0:leaf=-0.00378687913\\n',\n",
       " '0:[f0<5.85000038] yes=1,no=2,missing=1\\n\\t1:leaf=-0.00892519485\\n\\t2:[f3<1.54999995] yes=3,no=4,missing=3\\n\\t\\t3:leaf=-0.00861662719\\n\\t\\t4:[f3<1.75] yes=5,no=6,missing=5\\n\\t\\t\\t5:leaf=0.0275036041\\n\\t\\t\\t6:leaf=-0.00464687962\\n',\n",
       " '0:[f2<4.94999981] yes=1,no=2,missing=1\\n\\t1:[f3<1.6500001] yes=3,no=4,missing=3\\n\\t\\t3:leaf=-0.0260785911\\n\\t\\t4:leaf=0.00729324296\\n\\t2:[f0<6.05000019] yes=5,no=6,missing=5\\n\\t\\t5:leaf=0.000648357905\\n\\t\\t6:leaf=0.0153982071\\n',\n",
       " '0:leaf=-0.00383942132\\n',\n",
       " '0:[f0<5.85000038] yes=1,no=2,missing=1\\n\\t1:leaf=-0.00886743423\\n\\t2:[f2<4.94999981] yes=3,no=4,missing=3\\n\\t\\t3:leaf=0.0169478785\\n\\t\\t4:[f1<2.8499999] yes=5,no=6,missing=5\\n\\t\\t\\t5:leaf=-0.00757345278\\n\\t\\t\\t6:leaf=0.000443028024\\n',\n",
       " '0:[f2<4.94999981] yes=1,no=2,missing=1\\n\\t1:[f3<1.6500001] yes=3,no=4,missing=3\\n\\t\\t3:leaf=-0.0258271229\\n\\t\\t4:leaf=0.00694098696\\n\\t2:[f0<6.05000019] yes=5,no=6,missing=5\\n\\t\\t5:leaf=0.000820150541\\n\\t\\t6:leaf=0.0152259115\\n',\n",
       " '0:leaf=-0.00382877886\\n',\n",
       " '0:[f0<5.85000038] yes=1,no=2,missing=1\\n\\t1:leaf=-0.00881070085\\n\\t2:[f3<1.54999995] yes=3,no=4,missing=3\\n\\t\\t3:leaf=-0.00883262418\\n\\t\\t4:[f3<1.75] yes=5,no=6,missing=5\\n\\t\\t\\t5:leaf=0.0272866674\\n\\t\\t\\t6:leaf=-0.00436941441\\n',\n",
       " '0:[f1<3.04999995] yes=1,no=2,missing=1\\n\\t1:[f3<1.6500001] yes=3,no=4,missing=3\\n\\t\\t3:[f2<5.05000019] yes=5,no=6,missing=5\\n\\t\\t\\t5:leaf=-0.00353279756\\n\\t\\t\\t6:leaf=0.002074535\\n\\t\\t4:leaf=0.0154886683\\n\\t2:leaf=-0.0155987768\\n',\n",
       " '0:leaf=-0.0038850829\\n',\n",
       " '0:[f2<5.05000019] yes=1,no=2,missing=1\\n\\t1:[f0<6.14999962] yes=3,no=4,missing=3\\n\\t\\t3:[f1<2.54999995] yes=5,no=6,missing=5\\n\\t\\t\\t5:leaf=-0.0136285694\\n\\t\\t\\t6:leaf=0.00337953004\\n\\t\\t4:leaf=0.0223653\\n\\t2:leaf=-0.0089037884\\n',\n",
       " '0:[f2<4.94999981] yes=1,no=2,missing=1\\n\\t1:[f3<1.6500001] yes=3,no=4,missing=3\\n\\t\\t3:leaf=-0.0254388098\\n\\t\\t4:leaf=0.00676021492\\n\\t2:[f0<6.05000019] yes=5,no=6,missing=5\\n\\t\\t5:leaf=0.000746543636\\n\\t\\t6:leaf=0.0148792733\\n',\n",
       " '0:leaf=-0.00373418978\\n',\n",
       " '0:[f0<5.85000038] yes=1,no=2,missing=1\\n\\t1:leaf=-0.00859487243\\n\\t2:[f3<1.54999995] yes=3,no=4,missing=3\\n\\t\\t3:leaf=-0.00889404584\\n\\t\\t4:[f3<1.75] yes=5,no=6,missing=5\\n\\t\\t\\t5:leaf=0.0269061383\\n\\t\\t\\t6:leaf=-0.00411522156\\n',\n",
       " '0:[f0<5.94999981] yes=1,no=2,missing=1\\n\\t1:leaf=-0.0134696215\\n\\t2:[f3<1.75] yes=3,no=4,missing=3\\n\\t\\t3:[f3<1.54999995] yes=5,no=6,missing=5\\n\\t\\t\\t5:leaf=0.0150444871\\n\\t\\t\\t6:leaf=-0.0239956286\\n\\t\\t4:leaf=0.0277967248\\n',\n",
       " '0:leaf=-0.00373550365\\n',\n",
       " '0:[f0<5.85000038] yes=1,no=2,missing=1\\n\\t1:leaf=-0.00858934596\\n\\t2:[f2<4.94999981] yes=3,no=4,missing=3\\n\\t\\t3:leaf=0.0166822728\\n\\t\\t4:leaf=-0.00487468159\\n',\n",
       " '0:[f2<4.94999981] yes=1,no=2,missing=1\\n\\t1:[f1<2.8499999] yes=3,no=4,missing=3\\n\\t\\t3:leaf=0.00128740456\\n\\t\\t4:leaf=-0.0164608322\\n\\t2:[f0<6.05000019] yes=5,no=6,missing=5\\n\\t\\t5:leaf=0.000820470916\\n\\t\\t6:leaf=0.0147972321\\n',\n",
       " '0:leaf=-0.00371100265\\n',\n",
       " '0:[f0<5.44999981] yes=1,no=2,missing=1\\n\\t1:leaf=-0.0102095306\\n\\t2:[f2<4.94999981] yes=3,no=4,missing=3\\n\\t\\t3:[f3<1.70000005] yes=5,no=6,missing=5\\n\\t\\t\\t5:leaf=0.0186587218\\n\\t\\t\\t6:leaf=0.00339689711\\n\\t\\t4:[f1<2.75] yes=7,no=8,missing=7\\n\\t\\t\\t7:leaf=0.000752561609\\n\\t\\t\\t8:leaf=-0.00896678772\\n',\n",
       " '0:[f1<3.04999995] yes=1,no=2,missing=1\\n\\t1:[f3<1.6500001] yes=3,no=4,missing=3\\n\\t\\t3:[f2<5.05000019] yes=5,no=6,missing=5\\n\\t\\t\\t5:leaf=-0.00364304706\\n\\t\\t\\t6:leaf=0.00215373724\\n\\t\\t4:leaf=0.0151912821\\n\\t2:leaf=-0.0154312802\\n',\n",
       " '0:leaf=-0.00358968112\\n',\n",
       " '0:[f0<5.85000038] yes=1,no=2,missing=1\\n\\t1:leaf=-0.00834349822\\n\\t2:[f3<1.54999995] yes=3,no=4,missing=3\\n\\t\\t3:leaf=-0.00871744286\\n\\t\\t4:[f3<1.75] yes=5,no=6,missing=5\\n\\t\\t\\t5:leaf=0.0262335986\\n\\t\\t\\t6:leaf=-0.00418420276\\n',\n",
       " '0:[f0<5.94999981] yes=1,no=2,missing=1\\n\\t1:leaf=-0.0131473588\\n\\t2:[f3<1.75] yes=3,no=4,missing=3\\n\\t\\t3:[f3<1.54999995] yes=5,no=6,missing=5\\n\\t\\t\\t5:leaf=0.0147053963\\n\\t\\t\\t6:leaf=-0.0233698674\\n\\t\\t4:leaf=0.027359901\\n',\n",
       " '0:leaf=-0.00359431771\\n',\n",
       " '0:[f0<5.85000038] yes=1,no=2,missing=1\\n\\t1:leaf=-0.00833783206\\n\\t2:[f3<1.54999995] yes=3,no=4,missing=3\\n\\t\\t3:leaf=-0.00812608562\\n\\t\\t4:[f0<6.05000019] yes=5,no=6,missing=5\\n\\t\\t\\t5:leaf=0.0249602217\\n\\t\\t\\t6:leaf=-0.0047993823\\n',\n",
       " '0:[f1<3.04999995] yes=1,no=2,missing=1\\n\\t1:[f3<1.6500001] yes=3,no=4,missing=3\\n\\t\\t3:[f2<5.05000019] yes=5,no=6,missing=5\\n\\t\\t\\t5:leaf=-0.00374722527\\n\\t\\t\\t6:leaf=0.00258979038\\n\\t\\t4:leaf=0.0148269208\\n\\t2:leaf=-0.0152801936\\n',\n",
       " '0:leaf=-0.00365684484\\n',\n",
       " '0:[f2<5.05000019] yes=1,no=2,missing=1\\n\\t1:[f0<6.14999962] yes=3,no=4,missing=3\\n\\t\\t3:[f1<2.54999995] yes=5,no=6,missing=5\\n\\t\\t\\t5:leaf=-0.0125727868\\n\\t\\t\\t6:leaf=0.0026620829\\n\\t\\t4:leaf=0.0220056381\\n\\t2:leaf=-0.00871338695\\n',\n",
       " '0:[f2<4.94999981] yes=1,no=2,missing=1\\n\\t1:[f1<2.8499999] yes=3,no=4,missing=3\\n\\t\\t3:leaf=0.00070691522\\n\\t\\t4:leaf=-0.0153633254\\n\\t2:[f0<6.05000019] yes=5,no=6,missing=5\\n\\t\\t5:leaf=0.00110617874\\n\\t\\t6:leaf=0.0139561547\\n',\n",
       " '0:leaf=-0.0035047743\\n',\n",
       " '0:[f0<5.85000038] yes=1,no=2,missing=1\\n\\t1:leaf=-0.00800739508\\n\\t2:[f3<1.54999995] yes=3,no=4,missing=3\\n\\t\\t3:leaf=-0.00801341888\\n\\t\\t4:[f3<1.75] yes=5,no=6,missing=5\\n\\t\\t\\t5:leaf=0.0251692384\\n\\t\\t\\t6:leaf=-0.00437076995\\n',\n",
       " '0:[f0<5.94999981] yes=1,no=2,missing=1\\n\\t1:leaf=-0.0128280818\\n\\t2:[f3<1.75] yes=3,no=4,missing=3\\n\\t\\t3:[f3<1.54999995] yes=5,no=6,missing=5\\n\\t\\t\\t5:leaf=0.0139385378\\n\\t\\t\\t6:leaf=-0.0223721769\\n\\t\\t4:leaf=0.0269488301\\n',\n",
       " '0:leaf=-0.00350867957\\n',\n",
       " '0:[f2<5.05000019] yes=1,no=2,missing=1\\n\\t1:[f0<6.14999962] yes=3,no=4,missing=3\\n\\t\\t3:[f1<2.54999995] yes=5,no=6,missing=5\\n\\t\\t\\t5:leaf=-0.012097884\\n\\t\\t\\t6:leaf=0.00246696873\\n\\t\\t4:leaf=0.0215228982\\n\\t2:leaf=-0.00861565489\\n',\n",
       " '0:[f2<4.94999981] yes=1,no=2,missing=1\\n\\t1:[f1<2.8499999] yes=3,no=4,missing=3\\n\\t\\t3:leaf=0.00056026259\\n\\t\\t4:leaf=-0.015119602\\n\\t2:[f1<2.75] yes=5,no=6,missing=5\\n\\t\\t5:leaf=0.00193270331\\n\\t\\t6:leaf=0.0134444311\\n',\n",
       " '0:leaf=-0.00336800632\\n',\n",
       " '0:[f0<5.85000038] yes=1,no=2,missing=1\\n\\t1:leaf=-0.00793867558\\n\\t2:[f3<1.54999995] yes=3,no=4,missing=3\\n\\t\\t3:leaf=-0.00751000131\\n\\t\\t4:[f0<6.05000019] yes=5,no=6,missing=5\\n\\t\\t\\t5:leaf=0.0236843284\\n\\t\\t\\t6:leaf=-0.00479207374\\n',\n",
       " '0:[f0<5.94999981] yes=1,no=2,missing=1\\n\\t1:leaf=-0.0126246288\\n\\t2:[f1<2.75] yes=3,no=4,missing=3\\n\\t\\t3:leaf=-0.00401100842\\n\\t\\t4:[f0<6.55000019] yes=5,no=6,missing=5\\n\\t\\t\\t5:leaf=0.023345245\\n\\t\\t\\t6:leaf=-0.00231457362\\n',\n",
       " '0:leaf=-0.0034237043\\n',\n",
       " '0:[f0<5.85000038] yes=1,no=2,missing=1\\n\\t1:leaf=-0.0079326937\\n\\t2:[f2<4.94999981] yes=3,no=4,missing=3\\n\\t\\t3:leaf=0.0150807817\\n\\t\\t4:leaf=-0.00424041878\\n',\n",
       " '0:[f2<4.94999981] yes=1,no=2,missing=1\\n\\t1:[f1<2.8499999] yes=3,no=4,missing=3\\n\\t\\t3:leaf=0.000537983025\\n\\t\\t4:leaf=-0.0144326631\\n\\t2:[f1<2.75] yes=5,no=6,missing=5\\n\\t\\t5:leaf=0.00192768441\\n\\t\\t6:leaf=0.0129057681\\n',\n",
       " '0:leaf=-0.00340771722\\n',\n",
       " '0:[f0<5.85000038] yes=1,no=2,missing=1\\n\\t1:leaf=-0.00775543228\\n\\t2:[f3<1.54999995] yes=3,no=4,missing=3\\n\\t\\t3:leaf=-0.00729995826\\n\\t\\t4:[f3<1.75] yes=5,no=6,missing=5\\n\\t\\t\\t5:leaf=0.0242708009\\n\\t\\t\\t6:leaf=-0.00482282368\\n',\n",
       " '0:[f0<5.94999981] yes=1,no=2,missing=1\\n\\t1:leaf=-0.0120792938\\n\\t2:[f1<2.75] yes=3,no=4,missing=3\\n\\t\\t3:leaf=-0.00385932741\\n\\t\\t4:[f0<6.55000019] yes=5,no=6,missing=5\\n\\t\\t\\t5:leaf=0.0230886824\\n\\t\\t\\t6:leaf=-0.00270142197\\n',\n",
       " '0:leaf=-0.00345513853\\n',\n",
       " '0:[f0<5.85000038] yes=1,no=2,missing=1\\n\\t1:leaf=-0.00774781406\\n\\t2:[f2<4.94999981] yes=3,no=4,missing=3\\n\\t\\t3:leaf=0.0147087695\\n\\t\\t4:leaf=-0.00412603188\\n',\n",
       " '0:[f0<5.94999981] yes=1,no=2,missing=1\\n\\t1:leaf=-0.0119122788\\n\\t2:[f1<2.75] yes=3,no=4,missing=3\\n\\t\\t3:leaf=-0.00363444583\\n\\t\\t4:[f0<6.55000019] yes=5,no=6,missing=5\\n\\t\\t\\t5:leaf=0.0225534402\\n\\t\\t\\t6:leaf=-0.00231098547\\n',\n",
       " '0:leaf=-0.00345169357\\n',\n",
       " '0:[f0<5.85000038] yes=1,no=2,missing=1\\n\\t1:leaf=-0.00773877371\\n\\t2:[f3<1.54999995] yes=3,no=4,missing=3\\n\\t\\t3:leaf=-0.00700832903\\n\\t\\t4:[f3<1.75] yes=5,no=6,missing=5\\n\\t\\t\\t5:leaf=0.0236371327\\n\\t\\t\\t6:leaf=-0.0047218604\\n',\n",
       " '0:[f2<4.85000038] yes=1,no=2,missing=1\\n\\t1:leaf=-0.0100219538\\n\\t2:[f1<2.75] yes=3,no=4,missing=3\\n\\t\\t3:leaf=-0.000102728191\\n\\t\\t4:leaf=0.0132941278\\n',\n",
       " '0:leaf=-0.00346622593\\n',\n",
       " '0:[f0<5.44999981] yes=1,no=2,missing=1\\n\\t1:leaf=-0.00933939312\\n\\t2:[f2<4.94999981] yes=3,no=4,missing=3\\n\\t\\t3:leaf=0.0134279756\\n\\t\\t4:[f0<6.14999962] yes=5,no=6,missing=5\\n\\t\\t\\t5:leaf=-0.000706028834\\n\\t\\t\\t6:leaf=-0.00719126826\\n',\n",
       " '0:[f0<5.94999981] yes=1,no=2,missing=1\\n\\t1:leaf=-0.0115840398\\n\\t2:[f1<2.75] yes=3,no=4,missing=3\\n\\t\\t3:leaf=-0.00342737697\\n\\t\\t4:[f0<6.55000019] yes=5,no=6,missing=5\\n\\t\\t\\t5:leaf=0.0221797284\\n\\t\\t\\t6:leaf=-0.00228673103\\n',\n",
       " '0:leaf=-0.0033718464\\n',\n",
       " '0:[f0<5.85000038] yes=1,no=2,missing=1\\n\\t1:leaf=-0.00783070456\\n\\t2:[f3<1.54999995] yes=3,no=4,missing=3\\n\\t\\t3:leaf=-0.00682938937\\n\\t\\t4:[f3<1.75] yes=5,no=6,missing=5\\n\\t\\t\\t5:leaf=0.023294216\\n\\t\\t\\t6:leaf=-0.00478879781\\n',\n",
       " '0:[f2<4.94999981] yes=1,no=2,missing=1\\n\\t1:[f1<2.8499999] yes=3,no=4,missing=3\\n\\t\\t3:leaf=0.000816528336\\n\\t\\t4:leaf=-0.0135820182\\n\\t2:[f1<2.75] yes=5,no=6,missing=5\\n\\t\\t5:leaf=0.00228411425\\n\\t\\t6:leaf=0.0119798547\\n',\n",
       " '0:leaf=-0.00340739568\\n',\n",
       " '0:[f0<5.85000038] yes=1,no=2,missing=1\\n\\t1:leaf=-0.00765137095\\n\\t2:[f2<4.94999981] yes=3,no=4,missing=3\\n\\t\\t3:leaf=0.0141030373\\n\\t\\t4:leaf=-0.0039217514\\n',\n",
       " '0:[f0<5.94999981] yes=1,no=2,missing=1\\n\\t1:leaf=-0.0112683661\\n\\t2:[f1<2.75] yes=3,no=4,missing=3\\n\\t\\t3:leaf=-0.00323538342\\n\\t\\t4:leaf=0.0131120263\\n',\n",
       " '0:leaf=-0.00338794175\\n',\n",
       " '0:[f0<5.85000038] yes=1,no=2,missing=1\\n\\t1:leaf=-0.00763522461\\n\\t2:[f3<1.54999995] yes=3,no=4,missing=3\\n\\t\\t3:leaf=-0.006668936\\n\\t\\t4:[f3<1.75] yes=5,no=6,missing=5\\n\\t\\t\\t5:leaf=0.0231633559\\n\\t\\t\\t6:leaf=-0.00500339596\\n',\n",
       " '0:[f3<1.75] yes=1,no=2,missing=1\\n\\t1:[f1<2.6500001] yes=3,no=4,missing=3\\n\\t\\t3:leaf=0.0125522828\\n\\t\\t4:leaf=-0.0182237364\\n\\t2:leaf=0.0123843504\\n',\n",
       " '0:leaf=-0.00343079353\\n',\n",
       " '0:[f2<5.05000019] yes=1,no=2,missing=1\\n\\t1:[f0<6.05000019] yes=3,no=4,missing=3\\n\\t\\t3:[f1<2.54999995] yes=5,no=6,missing=5\\n\\t\\t\\t5:leaf=-0.0111139696\\n\\t\\t\\t6:leaf=0.00100128329\\n\\t\\t4:leaf=0.0199039187\\n\\t2:leaf=-0.0080769239\\n',\n",
       " '0:[f2<4.94999981] yes=1,no=2,missing=1\\n\\t1:[f1<2.8499999] yes=3,no=4,missing=3\\n\\t\\t3:leaf=0.000385170948\\n\\t\\t4:leaf=-0.0133287255\\n\\t2:leaf=0.00995922182\\n',\n",
       " '0:leaf=-0.0033041162\\n',\n",
       " '0:[f0<5.85000038] yes=1,no=2,missing=1\\n\\t1:leaf=-0.0072738342\\n\\t2:[f2<5.05000019] yes=3,no=4,missing=3\\n\\t\\t3:[f0<6.05000019] yes=5,no=6,missing=5\\n\\t\\t\\t5:leaf=-0.00221497705\\n\\t\\t\\t6:leaf=0.0194783285\\n\\t\\t4:leaf=-0.00638620509\\n',\n",
       " '0:[f0<5.94999981] yes=1,no=2,missing=1\\n\\t1:leaf=-0.0113844303\\n\\t2:[f1<2.75] yes=3,no=4,missing=3\\n\\t\\t3:leaf=-0.00340420054\\n\\t\\t4:leaf=0.013260603\\n',\n",
       " '0:leaf=-0.00327980565\\n',\n",
       " '0:[f0<5.85000038] yes=1,no=2,missing=1\\n\\t1:leaf=-0.00726822624\\n\\t2:[f3<1.54999995] yes=3,no=4,missing=3\\n\\t\\t3:leaf=-0.00664821966\\n\\t\\t4:[f3<1.75] yes=5,no=6,missing=5\\n\\t\\t\\t5:leaf=0.0224809702\\n\\t\\t\\t6:leaf=-0.004734613\\n',\n",
       " '0:[f0<5.94999981] yes=1,no=2,missing=1\\n\\t1:leaf=-0.0112130381\\n\\t2:[f1<2.75] yes=3,no=4,missing=3\\n\\t\\t3:leaf=-0.003321175\\n\\t\\t4:leaf=0.0130459191\\n',\n",
       " '0:leaf=-0.00330802053\\n',\n",
       " '0:[f0<5.85000038] yes=1,no=2,missing=1\\n\\t1:leaf=-0.00726001197\\n\\t2:[f2<4.94999981] yes=3,no=4,missing=3\\n\\t\\t3:leaf=0.0136982817\\n\\t\\t4:leaf=-0.00374092232\\n',\n",
       " '0:[f0<5.94999981] yes=1,no=2,missing=1\\n\\t1:leaf=-0.0110639073\\n\\t2:[f1<2.75] yes=3,no=4,missing=3\\n\\t\\t3:leaf=-0.00312120165\\n\\t\\t4:leaf=0.0127921691\\n']"
      ]
     },
     "execution_count": 66,
     "metadata": {},
     "output_type": "execute_result"
    }
   ],
   "source": [
    "booster.get_dump()"
   ]
  },
  {
   "cell_type": "code",
   "execution_count": 69,
   "metadata": {},
   "outputs": [],
   "source": [
    "d = booster.get_dump()[0]"
   ]
  },
  {
   "cell_type": "code",
   "execution_count": 103,
   "metadata": {},
   "outputs": [],
   "source": [
    "booster.dump_model(\"booster.txt\")"
   ]
  },
  {
   "cell_type": "code",
   "execution_count": 102,
   "metadata": {},
   "outputs": [
    {
     "data": {
      "text/plain": [
       "[['2<2.45000005', '0.143540666'], ['2>2.45000005', '-0.0733496398']]"
      ]
     },
     "execution_count": 102,
     "metadata": {},
     "output_type": "execute_result"
    }
   ],
   "source": [
    "import re\n",
    "node_list = []\n",
    "\n",
    "reg = re.compile(r\"(?P<tree_id>[\\d]*):\\[(?P<feature_id>[f\\d]*)(?P<operation>[\\<\\>]*)(?P<feature_value>[-\\d\\.]*)\\] yes=(?P<yes_value>[\\d]*),no=(?P<no_value>[\\d]*),missing=(?P<missing_value>[\\d]*)\")\n",
    "reg2= re.compile(r\"(?P<tree_id>\\d*):leaf=(?P<leaf_value>[-\\d\\.]*)\")\n",
    "for i, x in enumerate(d.split(\"\\n\")):\n",
    "    x = x.strip()\n",
    "    if not x:\n",
    "        continue\n",
    "        \n",
    "    regMatch = reg.match(x)\n",
    "    if regMatch:\n",
    "        linebits = regMatch.groupdict()\n",
    "        node_list.append(linebits)\n",
    "    else:\n",
    "        regMatch = reg2.match(x)\n",
    "        if regMatch:\n",
    "            linebits = regMatch.groupdict()\n",
    "            node_list.append(linebits)\n",
    "\n",
    "tree2code(node_list)\n",
    "        "
   ]
  },
  {
   "cell_type": "code",
   "execution_count": 101,
   "metadata": {},
   "outputs": [],
   "source": []
  },
  {
   "cell_type": "code",
   "execution_count": 84,
   "metadata": {},
   "outputs": [],
   "source": [
    "line2 = \"1:leaf=0.143540666\"\n",
    "reg2= re.compile(r\"(?P<tree_id>\\d*):leaf=(?P<leaf_value>[\\d\\.]*)\")"
   ]
  },
  {
   "cell_type": "code",
   "execution_count": 83,
   "metadata": {},
   "outputs": [
    {
     "name": "stdout",
     "output_type": "stream",
     "text": [
      "{'tree_id': '0', 'feature_id': 'f2', 'operation': '<', 'feature_value': '2.45000005', 'yes_value': '1', 'no_value': '2', 'missing_value': '1'}\n"
     ]
    }
   ],
   "source": [
    "regMatch = reg.match(line)\n",
    "linebits = regMatch.groupdict()\n",
    "print(linebits)"
   ]
  },
  {
   "cell_type": "code",
   "execution_count": 85,
   "metadata": {},
   "outputs": [
    {
     "name": "stdout",
     "output_type": "stream",
     "text": [
      "{'tree_id': '1', 'leaf_value': '0.143540666'}\n"
     ]
    }
   ],
   "source": [
    "regMatch2 = reg2.match(line2)\n",
    "linebits2 = regMatch2.groupdict()\n",
    "print(linebits2)"
   ]
  },
  {
   "cell_type": "code",
   "execution_count": null,
   "metadata": {},
   "outputs": [],
   "source": []
  }
 ],
 "metadata": {
  "kernelspec": {
   "display_name": "Python 3",
   "language": "python",
   "name": "python3"
  },
  "language_info": {
   "codemirror_mode": {
    "name": "ipython",
    "version": 3
   },
   "file_extension": ".py",
   "mimetype": "text/x-python",
   "name": "python",
   "nbconvert_exporter": "python",
   "pygments_lexer": "ipython3",
   "version": "3.6.5"
  }
 },
 "nbformat": 4,
 "nbformat_minor": 2
}
